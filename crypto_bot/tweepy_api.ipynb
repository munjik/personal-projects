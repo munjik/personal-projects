{
 "cells": [
  {
   "cell_type": "code",
   "execution_count": 1,
   "id": "cd0fede8",
   "metadata": {},
   "outputs": [],
   "source": [
    "import pandas as pd\n",
    "import time\n",
    "import tweepy"
   ]
  },
  {
   "cell_type": "code",
   "execution_count": 2,
   "id": "4c97784d",
   "metadata": {},
   "outputs": [],
   "source": [
    "from tweepy.auth import OAuthHandler\n",
    "\n",
    "# auth\n",
    "consumer_key= \"Aab7LOGZyppaFPNDQCdZ44yK7\"\n",
    "consumer_secret = \"CYdlRUzGTAPVrQdaa0XfuoTeDNyo1EHb2AuDsoevmlwWTYUkFM\"\n",
    "access_token = \"2182508549-jVF957pWQp2znpsd0kw54soL7TZkFwrJsQTusNV\"\n",
    "access_token_secret= \"HW9mwAvbO4KnwgZmk7C4LZa2mKqvTorHPokLeSHRF0FKE\"\n",
    "\n",
    "auth = tweepy.OAuthHandler(consumer_key, consumer_secret )\n",
    "auth.set_access_token(access_token, access_token_secret)\n",
    "api = tweepy.API(auth)"
   ]
  },
  {
   "cell_type": "code",
   "execution_count": 3,
   "id": "7e16263c",
   "metadata": {},
   "outputs": [],
   "source": [
    "live_tweets = []\n",
    "# x_list = []\n",
    "def grab_tweets(tickers):\n",
    "    count = 20\n",
    "    twitter_counter = range(5)\n",
    "#     after every range ( 0iterations-> 3seconds, 1itersations -> 3seconds, 2iteratoins-> 3seconds, 3->3seconds)\n",
    "    for x in twitter_counter:\n",
    "        time.sleep(5)\n",
    "        tweets = api.search_tweets(q =\"$\" + tickers, count = count)\n",
    "        json_f_tweets = [r._json for r in tweets]\n",
    "        for tweet in json_f_tweets:\n",
    "#             live_tweets.append(tweet)\n",
    "            live_tweets.append({'created_at': tweet['created_at'], 'full_text': tweet['text'], 'id': tweet['id']})\n",
    "        if not tweets:\n",
    "            print('Could not find any more tweets!')\n",
    "        last_id = tweet\n",
    "        tweet_df = pd.DataFrame(live_tweets, columns=['created_at', 'full_text','id'])\n",
    "    return tweet_df"
   ]
  },
  {
   "cell_type": "code",
   "execution_count": 4,
   "id": "e6ec3887",
   "metadata": {},
   "outputs": [
    {
     "data": {
      "text/plain": [
       "'This problem is avoided by setting the since_id parameter to the greatest ID of all the Tweets your application \\nhas already processed. Unlike max_id the since_id parameter is not inclusive, so it is not necessary to adjust \\nthe ID in any way. As shown in the following image, Twitter will only return Tweets with IDs higher than the\\nvalue passed for since_id.\\n\\n'"
      ]
     },
     "execution_count": 4,
     "metadata": {},
     "output_type": "execute_result"
    }
   ],
   "source": [
    "\"\"\"This problem is avoided by setting the since_id parameter to the greatest ID of all the Tweets your application \n",
    "has already processed. Unlike max_id the since_id parameter is not inclusive, so it is not necessary to adjust \n",
    "the ID in any way. As shown in the following image, Twitter will only return Tweets with IDs higher than the\n",
    "value passed for since_id.\n",
    "\n",
    "\"\"\""
   ]
  },
  {
   "cell_type": "code",
   "execution_count": 5,
   "id": "f610d5ed",
   "metadata": {},
   "outputs": [
    {
     "data": {
      "text/plain": [
       "0"
      ]
     },
     "execution_count": 5,
     "metadata": {},
     "output_type": "execute_result"
    }
   ],
   "source": [
    "len(live_tweets)#looking for the since_id on our tweets"
   ]
  },
  {
   "cell_type": "code",
   "execution_count": 6,
   "id": "7a7be31a",
   "metadata": {},
   "outputs": [
    {
     "data": {
      "text/html": [
       "<div>\n",
       "<style scoped>\n",
       "    .dataframe tbody tr th:only-of-type {\n",
       "        vertical-align: middle;\n",
       "    }\n",
       "\n",
       "    .dataframe tbody tr th {\n",
       "        vertical-align: top;\n",
       "    }\n",
       "\n",
       "    .dataframe thead th {\n",
       "        text-align: right;\n",
       "    }\n",
       "</style>\n",
       "<table border=\"1\" class=\"dataframe\">\n",
       "  <thead>\n",
       "    <tr style=\"text-align: right;\">\n",
       "      <th></th>\n",
       "      <th>created_at</th>\n",
       "      <th>full_text</th>\n",
       "      <th>id</th>\n",
       "    </tr>\n",
       "  </thead>\n",
       "  <tbody>\n",
       "    <tr>\n",
       "      <th>0</th>\n",
       "      <td>Wed Oct 27 05:18:02 +0000 2021</td>\n",
       "      <td>RT @mrjittagarn: @mentalist420 @Godriguezart 0...</td>\n",
       "      <td>1453229480600903681</td>\n",
       "    </tr>\n",
       "    <tr>\n",
       "      <th>1</th>\n",
       "      <td>Wed Oct 27 05:18:02 +0000 2021</td>\n",
       "      <td>RT @HashBlasterNFTs: 🔥 Giving away $200 $ETH 🔥...</td>\n",
       "      <td>1453229480005312515</td>\n",
       "    </tr>\n",
       "    <tr>\n",
       "      <th>2</th>\n",
       "      <td>Wed Oct 27 05:18:01 +0000 2021</td>\n",
       "      <td>RT @JPEGwealthy: Sorry I forgot to pick a winn...</td>\n",
       "      <td>1453229475563556874</td>\n",
       "    </tr>\n",
       "    <tr>\n",
       "      <th>3</th>\n",
       "      <td>Wed Oct 27 05:18:00 +0000 2021</td>\n",
       "      <td>🐻💰$1,700,000 $ETH SHORT @$4291.79 | 10/27 05:1...</td>\n",
       "      <td>1453229472094826498</td>\n",
       "    </tr>\n",
       "    <tr>\n",
       "      <th>4</th>\n",
       "      <td>Wed Oct 27 05:18:00 +0000 2021</td>\n",
       "      <td>$Doge $Eth $Btc &amp;gt; Fiat</td>\n",
       "      <td>1453229471834726417</td>\n",
       "    </tr>\n",
       "    <tr>\n",
       "      <th>...</th>\n",
       "      <td>...</td>\n",
       "      <td>...</td>\n",
       "      <td>...</td>\n",
       "    </tr>\n",
       "    <tr>\n",
       "      <th>95</th>\n",
       "      <td>Wed Oct 27 05:18:07 +0000 2021</td>\n",
       "      <td>RT @KeVinOramas4: @nftanothersigma @criis_cian...</td>\n",
       "      <td>1453229502264393745</td>\n",
       "    </tr>\n",
       "    <tr>\n",
       "      <th>96</th>\n",
       "      <td>Wed Oct 27 05:18:07 +0000 2021</td>\n",
       "      <td>RT @MiaPomp: What an awesome first week $MISTY...</td>\n",
       "      <td>1453229501584924676</td>\n",
       "    </tr>\n",
       "    <tr>\n",
       "      <th>97</th>\n",
       "      <td>Wed Oct 27 05:18:07 +0000 2021</td>\n",
       "      <td>RT @JPEGwealthy: Sorry I forgot to pick a winn...</td>\n",
       "      <td>1453229501081657344</td>\n",
       "    </tr>\n",
       "    <tr>\n",
       "      <th>98</th>\n",
       "      <td>Wed Oct 27 05:18:06 +0000 2021</td>\n",
       "      <td>RT @MiaPomp: What an awesome first week $MISTY...</td>\n",
       "      <td>1453229499328483336</td>\n",
       "    </tr>\n",
       "    <tr>\n",
       "      <th>99</th>\n",
       "      <td>Wed Oct 27 05:18:06 +0000 2021</td>\n",
       "      <td>RT @Wowswap_io: 🚨 WOWswap Trading Competition ...</td>\n",
       "      <td>1453229499286495243</td>\n",
       "    </tr>\n",
       "  </tbody>\n",
       "</table>\n",
       "<p>100 rows × 3 columns</p>\n",
       "</div>"
      ],
      "text/plain": [
       "                        created_at  \\\n",
       "0   Wed Oct 27 05:18:02 +0000 2021   \n",
       "1   Wed Oct 27 05:18:02 +0000 2021   \n",
       "2   Wed Oct 27 05:18:01 +0000 2021   \n",
       "3   Wed Oct 27 05:18:00 +0000 2021   \n",
       "4   Wed Oct 27 05:18:00 +0000 2021   \n",
       "..                             ...   \n",
       "95  Wed Oct 27 05:18:07 +0000 2021   \n",
       "96  Wed Oct 27 05:18:07 +0000 2021   \n",
       "97  Wed Oct 27 05:18:07 +0000 2021   \n",
       "98  Wed Oct 27 05:18:06 +0000 2021   \n",
       "99  Wed Oct 27 05:18:06 +0000 2021   \n",
       "\n",
       "                                            full_text                   id  \n",
       "0   RT @mrjittagarn: @mentalist420 @Godriguezart 0...  1453229480600903681  \n",
       "1   RT @HashBlasterNFTs: 🔥 Giving away $200 $ETH 🔥...  1453229480005312515  \n",
       "2   RT @JPEGwealthy: Sorry I forgot to pick a winn...  1453229475563556874  \n",
       "3   🐻💰$1,700,000 $ETH SHORT @$4291.79 | 10/27 05:1...  1453229472094826498  \n",
       "4                           $Doge $Eth $Btc &gt; Fiat  1453229471834726417  \n",
       "..                                                ...                  ...  \n",
       "95  RT @KeVinOramas4: @nftanothersigma @criis_cian...  1453229502264393745  \n",
       "96  RT @MiaPomp: What an awesome first week $MISTY...  1453229501584924676  \n",
       "97  RT @JPEGwealthy: Sorry I forgot to pick a winn...  1453229501081657344  \n",
       "98  RT @MiaPomp: What an awesome first week $MISTY...  1453229499328483336  \n",
       "99  RT @Wowswap_io: 🚨 WOWswap Trading Competition ...  1453229499286495243  \n",
       "\n",
       "[100 rows x 3 columns]"
      ]
     },
     "execution_count": 6,
     "metadata": {},
     "output_type": "execute_result"
    }
   ],
   "source": [
    "grab_tweets('ETH') "
   ]
  },
  {
   "cell_type": "code",
   "execution_count": 7,
   "id": "2fb4904f",
   "metadata": {},
   "outputs": [],
   "source": [
    "dat_frame_inspection = pd.DataFrame(live_tweets, columns=['created_at', 'full_text', 'id'])"
   ]
  },
  {
   "cell_type": "code",
   "execution_count": 8,
   "id": "39ee708c",
   "metadata": {},
   "outputs": [
    {
     "data": {
      "text/plain": [
       "0     False\n",
       "1     False\n",
       "2     False\n",
       "3     False\n",
       "4     False\n",
       "      ...  \n",
       "95    False\n",
       "96    False\n",
       "97    False\n",
       "98    False\n",
       "99    False\n",
       "Length: 100, dtype: bool"
      ]
     },
     "execution_count": 8,
     "metadata": {},
     "output_type": "execute_result"
    }
   ],
   "source": [
    "dat_frame_inspection.duplicated().head(120)"
   ]
  },
  {
   "cell_type": "code",
   "execution_count": 9,
   "id": "50f56371",
   "metadata": {},
   "outputs": [
    {
     "data": {
      "text/plain": [
       "59"
      ]
     },
     "execution_count": 9,
     "metadata": {},
     "output_type": "execute_result"
    }
   ],
   "source": [
    "dat_frame_inspection.duplicated().sum()"
   ]
  },
  {
   "cell_type": "code",
   "execution_count": 21,
   "id": "ade979aa",
   "metadata": {},
   "outputs": [
    {
     "data": {
      "text/html": [
       "<div>\n",
       "<style scoped>\n",
       "    .dataframe tbody tr th:only-of-type {\n",
       "        vertical-align: middle;\n",
       "    }\n",
       "\n",
       "    .dataframe tbody tr th {\n",
       "        vertical-align: top;\n",
       "    }\n",
       "\n",
       "    .dataframe thead th {\n",
       "        text-align: right;\n",
       "    }\n",
       "</style>\n",
       "<table border=\"1\" class=\"dataframe\">\n",
       "  <thead>\n",
       "    <tr style=\"text-align: right;\">\n",
       "      <th></th>\n",
       "      <th>created_at</th>\n",
       "      <th>full_text</th>\n",
       "      <th>id</th>\n",
       "    </tr>\n",
       "  </thead>\n",
       "  <tbody>\n",
       "    <tr>\n",
       "      <th>0</th>\n",
       "      <td>Wed Oct 27 05:18:02 +0000 2021</td>\n",
       "      <td>RT @mrjittagarn: @mentalist420 @Godriguezart 0...</td>\n",
       "      <td>1453229480600903681</td>\n",
       "    </tr>\n",
       "    <tr>\n",
       "      <th>1</th>\n",
       "      <td>Wed Oct 27 05:18:02 +0000 2021</td>\n",
       "      <td>RT @HashBlasterNFTs: 🔥 Giving away $200 $ETH 🔥...</td>\n",
       "      <td>1453229480005312515</td>\n",
       "    </tr>\n",
       "    <tr>\n",
       "      <th>2</th>\n",
       "      <td>Wed Oct 27 05:18:01 +0000 2021</td>\n",
       "      <td>RT @JPEGwealthy: Sorry I forgot to pick a winn...</td>\n",
       "      <td>1453229475563556874</td>\n",
       "    </tr>\n",
       "    <tr>\n",
       "      <th>3</th>\n",
       "      <td>Wed Oct 27 05:18:00 +0000 2021</td>\n",
       "      <td>🐻💰$1,700,000 $ETH SHORT @$4291.79 | 10/27 05:1...</td>\n",
       "      <td>1453229472094826498</td>\n",
       "    </tr>\n",
       "    <tr>\n",
       "      <th>4</th>\n",
       "      <td>Wed Oct 27 05:18:00 +0000 2021</td>\n",
       "      <td>$Doge $Eth $Btc &amp;gt; Fiat</td>\n",
       "      <td>1453229471834726417</td>\n",
       "    </tr>\n",
       "    <tr>\n",
       "      <th>...</th>\n",
       "      <td>...</td>\n",
       "      <td>...</td>\n",
       "      <td>...</td>\n",
       "    </tr>\n",
       "    <tr>\n",
       "      <th>56</th>\n",
       "      <td>Wed Oct 27 05:17:43 +0000 2021</td>\n",
       "      <td>RT @cryptogems555: #HATAKE with a bull flag fo...</td>\n",
       "      <td>1453229401924161538</td>\n",
       "    </tr>\n",
       "    <tr>\n",
       "      <th>57</th>\n",
       "      <td>Wed Oct 27 05:17:42 +0000 2021</td>\n",
       "      <td>@withFND Hello everyone, I present to you my N...</td>\n",
       "      <td>1453229397897531392</td>\n",
       "    </tr>\n",
       "    <tr>\n",
       "      <th>58</th>\n",
       "      <td>Wed Oct 27 05:17:42 +0000 2021</td>\n",
       "      <td>RT @UpBotscom: Our native token $UBXT just mad...</td>\n",
       "      <td>1453229396815405069</td>\n",
       "    </tr>\n",
       "    <tr>\n",
       "      <th>59</th>\n",
       "      <td>Wed Oct 27 05:17:38 +0000 2021</td>\n",
       "      <td>RT @cryptogems555: #HATAKE with a bull flag fo...</td>\n",
       "      <td>1453229378972885000</td>\n",
       "    </tr>\n",
       "    <tr>\n",
       "      <th>60</th>\n",
       "      <td>Wed Oct 27 05:18:02 +0000 2021</td>\n",
       "      <td>RT @mrjittagarn: @mentalist420 @Godriguezart 0...</td>\n",
       "      <td>1453229480600903681</td>\n",
       "    </tr>\n",
       "  </tbody>\n",
       "</table>\n",
       "<p>61 rows × 3 columns</p>\n",
       "</div>"
      ],
      "text/plain": [
       "                        created_at  \\\n",
       "0   Wed Oct 27 05:18:02 +0000 2021   \n",
       "1   Wed Oct 27 05:18:02 +0000 2021   \n",
       "2   Wed Oct 27 05:18:01 +0000 2021   \n",
       "3   Wed Oct 27 05:18:00 +0000 2021   \n",
       "4   Wed Oct 27 05:18:00 +0000 2021   \n",
       "..                             ...   \n",
       "56  Wed Oct 27 05:17:43 +0000 2021   \n",
       "57  Wed Oct 27 05:17:42 +0000 2021   \n",
       "58  Wed Oct 27 05:17:42 +0000 2021   \n",
       "59  Wed Oct 27 05:17:38 +0000 2021   \n",
       "60  Wed Oct 27 05:18:02 +0000 2021   \n",
       "\n",
       "                                            full_text                   id  \n",
       "0   RT @mrjittagarn: @mentalist420 @Godriguezart 0...  1453229480600903681  \n",
       "1   RT @HashBlasterNFTs: 🔥 Giving away $200 $ETH 🔥...  1453229480005312515  \n",
       "2   RT @JPEGwealthy: Sorry I forgot to pick a winn...  1453229475563556874  \n",
       "3   🐻💰$1,700,000 $ETH SHORT @$4291.79 | 10/27 05:1...  1453229472094826498  \n",
       "4                           $Doge $Eth $Btc &gt; Fiat  1453229471834726417  \n",
       "..                                                ...                  ...  \n",
       "56  RT @cryptogems555: #HATAKE with a bull flag fo...  1453229401924161538  \n",
       "57  @withFND Hello everyone, I present to you my N...  1453229397897531392  \n",
       "58  RT @UpBotscom: Our native token $UBXT just mad...  1453229396815405069  \n",
       "59  RT @cryptogems555: #HATAKE with a bull flag fo...  1453229378972885000  \n",
       "60  RT @mrjittagarn: @mentalist420 @Godriguezart 0...  1453229480600903681  \n",
       "\n",
       "[61 rows x 3 columns]"
      ]
     },
     "execution_count": 21,
     "metadata": {},
     "output_type": "execute_result"
    }
   ],
   "source": [
    "dat_frame_inspection.head(61)"
   ]
  },
  {
   "cell_type": "code",
   "execution_count": null,
   "id": "33e08f38",
   "metadata": {},
   "outputs": [],
   "source": []
  }
 ],
 "metadata": {
  "kernelspec": {
   "display_name": "Python 3 (ipykernel)",
   "language": "python",
   "name": "python3"
  },
  "language_info": {
   "codemirror_mode": {
    "name": "ipython",
    "version": 3
   },
   "file_extension": ".py",
   "mimetype": "text/x-python",
   "name": "python",
   "nbconvert_exporter": "python",
   "pygments_lexer": "ipython3",
   "version": "3.8.6"
  },
  "toc": {
   "base_numbering": 1,
   "nav_menu": {},
   "number_sections": true,
   "sideBar": true,
   "skip_h1_title": false,
   "title_cell": "Table of Contents",
   "title_sidebar": "Contents",
   "toc_cell": false,
   "toc_position": {},
   "toc_section_display": true,
   "toc_window_display": false
  }
 },
 "nbformat": 4,
 "nbformat_minor": 5
}
