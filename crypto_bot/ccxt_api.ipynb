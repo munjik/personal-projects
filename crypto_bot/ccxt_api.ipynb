{
 "cells": [
  {
   "cell_type": "code",
   "execution_count": 3,
   "id": "1d029988",
   "metadata": {},
   "outputs": [],
   "source": [
    "import ccxt"
   ]
  },
  {
   "cell_type": "code",
   "execution_count": 4,
   "id": "0e340085",
   "metadata": {},
   "outputs": [
    {
     "name": "stdout",
     "output_type": "stream",
     "text": [
      "['aax', 'aofex', 'ascendex', 'bequant', 'bibox', 'bigone', 'binance', 'binancecoinm', 'binanceus', 'binanceusdm', 'bit2c', 'bitbank', 'bitbay', 'bitbns', 'bitcoincom', 'bitfinex', 'bitfinex2', 'bitflyer', 'bitforex', 'bitget', 'bithumb', 'bitmart', 'bitmex', 'bitpanda', 'bitso', 'bitstamp', 'bitstamp1', 'bittrex', 'bitvavo', 'bitz', 'bl3p', 'btcalpha', 'btcbox', 'btcmarkets', 'btctradeua', 'btcturk', 'buda', 'bw', 'bybit', 'bytetrade', 'cdax', 'cex', 'coinbase', 'coinbaseprime', 'coinbasepro', 'coincheck', 'coinegg', 'coinex', 'coinfalcon', 'coinmarketcap', 'coinmate', 'coinone', 'coinspot', 'crex24', 'currencycom', 'delta', 'deribit', 'digifinex', 'eqonex', 'equos', 'exmo', 'exx', 'flowbtc', 'ftx', 'gateio', 'gemini', 'hitbtc', 'hollaex', 'huobi', 'huobijp', 'huobipro', 'idex', 'independentreserve', 'indodax', 'itbit', 'kraken', 'kucoin', 'kuna', 'latoken', 'lbank', 'liquid', 'luno', 'lykke', 'mercado', 'mixcoins', 'ndax', 'novadax', 'oceanex', 'okcoin', 'okex', 'okex3', 'okex5', 'paymium', 'phemex', 'poloniex', 'probit', 'qtrade', 'ripio', 'stex', 'therock', 'tidebit', 'tidex', 'timex', 'upbit', 'vcc', 'wavesexchange', 'whitebit', 'xena', 'yobit', 'zaif', 'zb']\n"
     ]
    }
   ],
   "source": [
    "print(ccxt.exchanges)"
   ]
  },
  {
   "cell_type": "code",
   "execution_count": 5,
   "id": "dc8c4bb8",
   "metadata": {},
   "outputs": [],
   "source": [
    "# To connect to an exchange and start trading you need to instantiate an exchange class from ccxt library.\n",
    "exchange = ccxt.binance()"
   ]
  },
  {
   "cell_type": "code",
   "execution_count": 6,
   "id": "e2524da7",
   "metadata": {},
   "outputs": [
    {
     "data": {
      "text/plain": [
       "ccxt.binance()"
      ]
     },
     "execution_count": 6,
     "metadata": {},
     "output_type": "execute_result"
    }
   ],
   "source": [
    "exchange"
   ]
  },
  {
   "cell_type": "code",
   "execution_count": 11,
   "id": "1a7f75df",
   "metadata": {},
   "outputs": [],
   "source": [
    "markets = exchange.load_markets()"
   ]
  },
  {
   "cell_type": "code",
   "execution_count": 26,
   "id": "eadbbf29",
   "metadata": {},
   "outputs": [
    {
     "data": {
      "text/plain": [
       "{'symbol': 'ETH/BTC',\n",
       " 'timestamp': 1634086886491,\n",
       " 'datetime': '2021-10-13T01:01:26.491Z',\n",
       " 'high': 0.063408,\n",
       " 'low': 0.059927,\n",
       " 'bid': 0.062474,\n",
       " 'bidVolume': 11.5488,\n",
       " 'ask': 0.062475,\n",
       " 'askVolume': 2.018,\n",
       " 'vwap': 0.06146957,\n",
       " 'open': 0.06153,\n",
       " 'close': 0.062472,\n",
       " 'last': 0.062472,\n",
       " 'previousClose': 0.061528,\n",
       " 'change': 0.000942,\n",
       " 'percentage': 1.531,\n",
       " 'average': 0.062001,\n",
       " 'baseVolume': 113945.1937,\n",
       " 'quoteVolume': 7004.16177763,\n",
       " 'info': {'symbol': 'ETHBTC',\n",
       "  'priceChange': '0.00094200',\n",
       "  'priceChangePercent': '1.531',\n",
       "  'weightedAvgPrice': '0.06146957',\n",
       "  'prevClosePrice': '0.06152800',\n",
       "  'lastPrice': '0.06247200',\n",
       "  'lastQty': '0.00760000',\n",
       "  'bidPrice': '0.06247400',\n",
       "  'bidQty': '11.54880000',\n",
       "  'askPrice': '0.06247500',\n",
       "  'askQty': '2.01800000',\n",
       "  'openPrice': '0.06153000',\n",
       "  'highPrice': '0.06340800',\n",
       "  'lowPrice': '0.05992700',\n",
       "  'volume': '113945.19370000',\n",
       "  'quoteVolume': '7004.16177763',\n",
       "  'openTime': '1634000486491',\n",
       "  'closeTime': '1634086886491',\n",
       "  'firstId': '301566359',\n",
       "  'lastId': '301789463',\n",
       "  'count': '223105'}}"
      ]
     },
     "execution_count": 26,
     "metadata": {},
     "output_type": "execute_result"
    }
   ],
   "source": [
    "exchange.fetch_ticker('ETH/BTC')['close']"
   ]
  },
  {
   "cell_type": "code",
   "execution_count": null,
   "id": "a8ca41d4",
   "metadata": {},
   "outputs": [],
   "source": []
  }
 ],
 "metadata": {
  "kernelspec": {
   "display_name": "Python 3 (ipykernel)",
   "language": "python",
   "name": "python3"
  },
  "language_info": {
   "codemirror_mode": {
    "name": "ipython",
    "version": 3
   },
   "file_extension": ".py",
   "mimetype": "text/x-python",
   "name": "python",
   "nbconvert_exporter": "python",
   "pygments_lexer": "ipython3",
   "version": "3.8.6"
  },
  "toc": {
   "base_numbering": 1,
   "nav_menu": {},
   "number_sections": true,
   "sideBar": true,
   "skip_h1_title": false,
   "title_cell": "Table of Contents",
   "title_sidebar": "Contents",
   "toc_cell": false,
   "toc_position": {},
   "toc_section_display": true,
   "toc_window_display": false
  }
 },
 "nbformat": 4,
 "nbformat_minor": 5
}
