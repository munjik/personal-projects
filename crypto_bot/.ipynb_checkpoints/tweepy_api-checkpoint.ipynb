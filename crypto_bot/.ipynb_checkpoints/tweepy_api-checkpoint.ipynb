{
 "cells": [
  {
   "cell_type": "code",
   "execution_count": 1,
   "id": "4c97784d",
   "metadata": {},
   "outputs": [],
   "source": [
    "import tweepy\n",
    "from tweepy.auth import OAuthHandler\n",
    "\n",
    "# auth\n",
    "consumer_key= \"Aab7LOGZyppaFPNDQCdZ44yK7\"\n",
    "consumer_secret = \"CYdlRUzGTAPVrQdaa0XfuoTeDNyo1EHb2AuDsoevmlwWTYUkFM\"\n",
    "access_token = \"2182508549-jVF957pWQp2znpsd0kw54soL7TZkFwrJsQTusNV\"\n",
    "access_token_secret= \"HW9mwAvbO4KnwgZmk7C4LZa2mKqvTorHPokLeSHRF0FKE\"\n",
    "\n",
    "auth = tweepy.OAuthHandler(consumer_key, consumer_secret )\n",
    "auth.set_access_token(access_token, access_token_secret)\n",
    "api = tweepy.API(auth)\n",
    "\n"
   ]
  },
  {
   "cell_type": "code",
   "execution_count": 46,
   "id": "7e16263c",
   "metadata": {},
   "outputs": [],
   "source": [
    "live_tweets = []\n",
    "def grab_tweets(tickers):\n",
    "    tweets = api.search_tweets(q =\"$\" + tickers, count = 1)\n",
    "    json_f_tweets = [r._json for r in tweets]\n",
    "    for tweet in json_f_tweets:\n",
    "        live_tweets.append({'created_at': tweet['created_at'], 'full_text': tweet['text']})\n",
    "    "
   ]
  },
  {
   "cell_type": "code",
   "execution_count": 49,
   "id": "7a7be31a",
   "metadata": {},
   "outputs": [],
   "source": [
    "grab_tweets('GE')"
   ]
  },
  {
   "cell_type": "code",
   "execution_count": 54,
   "id": "0c1d71d7",
   "metadata": {},
   "outputs": [],
   "source": [
    "tweets = api.search_tweets(q =\"$GE\", count = 1)"
   ]
  },
  {
   "cell_type": "code",
   "execution_count": 50,
   "id": "f4975dfe",
   "metadata": {},
   "outputs": [],
   "source": [
    "first_tweet = api.search_tweets(q =\"$GE\", count = 1)"
   ]
  },
  {
   "cell_type": "code",
   "execution_count": 51,
   "id": "e9c7d0f3",
   "metadata": {},
   "outputs": [],
   "source": [
    "json_data_GE = [r._json for r in first_tweet]"
   ]
  },
  {
   "cell_type": "code",
   "execution_count": 52,
   "id": "88b4d399",
   "metadata": {},
   "outputs": [
    {
     "data": {
      "text/plain": [
       "[]"
      ]
     },
     "execution_count": 52,
     "metadata": {},
     "output_type": "execute_result"
    }
   ],
   "source": [
    "json_data_GE"
   ]
  },
  {
   "cell_type": "code",
   "execution_count": null,
   "id": "1419b30b",
   "metadata": {},
   "outputs": [],
   "source": []
  }
 ],
 "metadata": {
  "kernelspec": {
   "display_name": "Python 3 (ipykernel)",
   "language": "python",
   "name": "python3"
  },
  "language_info": {
   "codemirror_mode": {
    "name": "ipython",
    "version": 3
   },
   "file_extension": ".py",
   "mimetype": "text/x-python",
   "name": "python",
   "nbconvert_exporter": "python",
   "pygments_lexer": "ipython3",
   "version": "3.8.6"
  },
  "toc": {
   "base_numbering": 1,
   "nav_menu": {},
   "number_sections": true,
   "sideBar": true,
   "skip_h1_title": false,
   "title_cell": "Table of Contents",
   "title_sidebar": "Contents",
   "toc_cell": false,
   "toc_position": {},
   "toc_section_display": true,
   "toc_window_display": false
  }
 },
 "nbformat": 4,
 "nbformat_minor": 5
}
