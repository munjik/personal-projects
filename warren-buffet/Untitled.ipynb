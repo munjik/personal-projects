{
 "cells": [
  {
   "cell_type": "code",
   "execution_count": 92,
   "id": "0619be5f",
   "metadata": {},
   "outputs": [],
   "source": [
    "import pandas as pd\n",
    "import seaborn as sns\n",
    "import numpy as np\n",
    "from matplotlib import pyplot as plt\n",
    "from scipy import stats\n",
    "from matplotlib import pylab\n",
    "from pylab import *\n",
    "from sklearn.preprocessing import OneHotEncoder\n",
    "from sklearn.pipeline import Pipeline\n",
    "from sklearn.preprocessing import RobustScaler\n",
    "from sklearn.compose import ColumnTransformer\n",
    "from sklearn.compose import make_column_selector\n",
    "from sklearn.neighbors import KNeighborsClassifier\n",
    "from sklearn.model_selection import cross_validate\n",
    "from sklearn.model_selection import GridSearchCV\n",
    "from sklearn.model_selection import train_test_split\n",
    "from sklearn.preprocessing import MinMaxScaler\n"
   ]
  },
  {
   "cell_type": "code",
   "execution_count": 2,
   "id": "e1fd9ee0",
   "metadata": {},
   "outputs": [],
   "source": [
    "df = pd.read_csv('/Users/munjismac/code/munjik/personal-projects/warren-buffet/Company Data - Data.csv')"
   ]
  },
  {
   "cell_type": "code",
   "execution_count": 3,
   "id": "10438c58",
   "metadata": {},
   "outputs": [
    {
     "data": {
      "text/html": [
       "<div>\n",
       "<style scoped>\n",
       "    .dataframe tbody tr th:only-of-type {\n",
       "        vertical-align: middle;\n",
       "    }\n",
       "\n",
       "    .dataframe tbody tr th {\n",
       "        vertical-align: top;\n",
       "    }\n",
       "\n",
       "    .dataframe thead th {\n",
       "        text-align: right;\n",
       "    }\n",
       "</style>\n",
       "<table border=\"1\" class=\"dataframe\">\n",
       "  <thead>\n",
       "    <tr style=\"text-align: right;\">\n",
       "      <th></th>\n",
       "      <th>symbol</th>\n",
       "      <th>calendarYear</th>\n",
       "      <th>GPM</th>\n",
       "      <th>A (SGA)</th>\n",
       "      <th>B (RD)</th>\n",
       "      <th>C (PPE)</th>\n",
       "      <th>D (DEPR)</th>\n",
       "      <th>E (CAPEX)</th>\n",
       "      <th>F (NR)</th>\n",
       "      <th>currentRatio</th>\n",
       "      <th>G (ROA)</th>\n",
       "      <th>H (LD/GP)</th>\n",
       "      <th>debtToEquity</th>\n",
       "      <th>Net Issuance</th>\n",
       "      <th>Interest - income</th>\n",
       "      <th>Buy =1</th>\n",
       "    </tr>\n",
       "  </thead>\n",
       "  <tbody>\n",
       "    <tr>\n",
       "      <th>0</th>\n",
       "      <td>AAPL</td>\n",
       "      <td>2021</td>\n",
       "      <td>0.417794</td>\n",
       "      <td>0.143768</td>\n",
       "      <td>0.143382</td>\n",
       "      <td>0.258054</td>\n",
       "      <td>0.073831</td>\n",
       "      <td>-0.117079</td>\n",
       "      <td>0.544001</td>\n",
       "      <td>1.074553</td>\n",
       "      <td>0.269742</td>\n",
       "      <td>0.713876</td>\n",
       "      <td>1.729371</td>\n",
       "      <td>-1.479404</td>\n",
       "      <td>0.024277</td>\n",
       "      <td>1</td>\n",
       "    </tr>\n",
       "    <tr>\n",
       "      <th>1</th>\n",
       "      <td>AAPL</td>\n",
       "      <td>2020</td>\n",
       "      <td>0.382332</td>\n",
       "      <td>0.189756</td>\n",
       "      <td>0.178665</td>\n",
       "      <td>0.350299</td>\n",
       "      <td>0.105339</td>\n",
       "      <td>-0.127310</td>\n",
       "      <td>0.652227</td>\n",
       "      <td>1.363604</td>\n",
       "      <td>0.177256</td>\n",
       "      <td>0.940080</td>\n",
       "      <td>1.510078</td>\n",
       "      <td>-1.407629</td>\n",
       "      <td>0.043341</td>\n",
       "      <td>1</td>\n",
       "    </tr>\n",
       "    <tr>\n",
       "      <th>2</th>\n",
       "      <td>AAPL</td>\n",
       "      <td>2019</td>\n",
       "      <td>0.378178</td>\n",
       "      <td>0.185432</td>\n",
       "      <td>0.164820</td>\n",
       "      <td>0.379889</td>\n",
       "      <td>0.127521</td>\n",
       "      <td>-0.189934</td>\n",
       "      <td>0.828942</td>\n",
       "      <td>1.540126</td>\n",
       "      <td>0.163230</td>\n",
       "      <td>0.933074</td>\n",
       "      <td>1.014577</td>\n",
       "      <td>-1.463585</td>\n",
       "      <td>0.055936</td>\n",
       "      <td>1</td>\n",
       "    </tr>\n",
       "    <tr>\n",
       "      <th>3</th>\n",
       "      <td>AAPL</td>\n",
       "      <td>2018</td>\n",
       "      <td>0.383437</td>\n",
       "      <td>0.164033</td>\n",
       "      <td>0.139789</td>\n",
       "      <td>0.405581</td>\n",
       "      <td>0.107061</td>\n",
       "      <td>-0.223631</td>\n",
       "      <td>0.823017</td>\n",
       "      <td>1.123843</td>\n",
       "      <td>0.162775</td>\n",
       "      <td>0.920423</td>\n",
       "      <td>0.874826</td>\n",
       "      <td>-1.792717</td>\n",
       "      <td>0.045699</td>\n",
       "      <td>1</td>\n",
       "    </tr>\n",
       "    <tr>\n",
       "      <th>4</th>\n",
       "      <td>AAPL</td>\n",
       "      <td>2017</td>\n",
       "      <td>0.384699</td>\n",
       "      <td>0.173055</td>\n",
       "      <td>0.131325</td>\n",
       "      <td>0.383088</td>\n",
       "      <td>0.115177</td>\n",
       "      <td>-0.264627</td>\n",
       "      <td>0.737792</td>\n",
       "      <td>1.276063</td>\n",
       "      <td>0.128826</td>\n",
       "      <td>1.102295</td>\n",
       "      <td>0.725171</td>\n",
       "      <td>-0.901804</td>\n",
       "      <td>0.037868</td>\n",
       "      <td>1</td>\n",
       "    </tr>\n",
       "    <tr>\n",
       "      <th>5</th>\n",
       "      <td>AAPL</td>\n",
       "      <td>2016</td>\n",
       "      <td>0.390760</td>\n",
       "      <td>0.168449</td>\n",
       "      <td>0.119210</td>\n",
       "      <td>0.320544</td>\n",
       "      <td>0.124669</td>\n",
       "      <td>-0.296539</td>\n",
       "      <td>0.641298</td>\n",
       "      <td>1.352669</td>\n",
       "      <td>0.142024</td>\n",
       "      <td>0.895138</td>\n",
       "      <td>0.588129</td>\n",
       "      <td>-0.935234</td>\n",
       "      <td>0.024257</td>\n",
       "      <td>1</td>\n",
       "    </tr>\n",
       "    <tr>\n",
       "      <th>6</th>\n",
       "      <td>AAPL</td>\n",
       "      <td>2015</td>\n",
       "      <td>0.400599</td>\n",
       "      <td>0.153045</td>\n",
       "      <td>0.086162</td>\n",
       "      <td>0.240008</td>\n",
       "      <td>0.120234</td>\n",
       "      <td>-0.215155</td>\n",
       "      <td>0.568285</td>\n",
       "      <td>1.108771</td>\n",
       "      <td>0.183814</td>\n",
       "      <td>0.571027</td>\n",
       "      <td>0.447933</td>\n",
       "      <td>-1.266049</td>\n",
       "      <td>0.010291</td>\n",
       "      <td>1</td>\n",
       "    </tr>\n",
       "    <tr>\n",
       "      <th>7</th>\n",
       "      <td>AAPL</td>\n",
       "      <td>2014</td>\n",
       "      <td>0.385880</td>\n",
       "      <td>0.170024</td>\n",
       "      <td>0.085643</td>\n",
       "      <td>0.292386</td>\n",
       "      <td>0.112650</td>\n",
       "      <td>-0.248368</td>\n",
       "      <td>0.688914</td>\n",
       "      <td>1.080113</td>\n",
       "      <td>0.170420</td>\n",
       "      <td>0.410947</td>\n",
       "      <td>0.259864</td>\n",
       "      <td>-1.898941</td>\n",
       "      <td>0.007314</td>\n",
       "      <td>1</td>\n",
       "    </tr>\n",
       "    <tr>\n",
       "      <th>8</th>\n",
       "      <td>AAPL</td>\n",
       "      <td>2013</td>\n",
       "      <td>0.376245</td>\n",
       "      <td>0.168419</td>\n",
       "      <td>0.069591</td>\n",
       "      <td>0.258102</td>\n",
       "      <td>0.105079</td>\n",
       "      <td>-0.245052</td>\n",
       "      <td>0.557308</td>\n",
       "      <td>1.678639</td>\n",
       "      <td>0.178923</td>\n",
       "      <td>0.263747</td>\n",
       "      <td>0.137273</td>\n",
       "      <td>-1.129832</td>\n",
       "      <td>0.002776</td>\n",
       "      <td>1</td>\n",
       "    </tr>\n",
       "    <tr>\n",
       "      <th>9</th>\n",
       "      <td>AAPL</td>\n",
       "      <td>2012</td>\n",
       "      <td>0.438712</td>\n",
       "      <td>0.146224</td>\n",
       "      <td>0.049241</td>\n",
       "      <td>0.225044</td>\n",
       "      <td>0.047727</td>\n",
       "      <td>-0.225289</td>\n",
       "      <td>0.447895</td>\n",
       "      <td>1.495849</td>\n",
       "      <td>0.237033</td>\n",
       "      <td>0.000000</td>\n",
       "      <td>0.000000</td>\n",
       "      <td>0.040494</td>\n",
       "      <td>0.000000</td>\n",
       "      <td>1</td>\n",
       "    </tr>\n",
       "  </tbody>\n",
       "</table>\n",
       "</div>"
      ],
      "text/plain": [
       "  symbol  calendarYear       GPM   A (SGA)    B (RD)   C (PPE)  D (DEPR)  \\\n",
       "0   AAPL          2021  0.417794  0.143768  0.143382  0.258054  0.073831   \n",
       "1   AAPL          2020  0.382332  0.189756  0.178665  0.350299  0.105339   \n",
       "2   AAPL          2019  0.378178  0.185432  0.164820  0.379889  0.127521   \n",
       "3   AAPL          2018  0.383437  0.164033  0.139789  0.405581  0.107061   \n",
       "4   AAPL          2017  0.384699  0.173055  0.131325  0.383088  0.115177   \n",
       "5   AAPL          2016  0.390760  0.168449  0.119210  0.320544  0.124669   \n",
       "6   AAPL          2015  0.400599  0.153045  0.086162  0.240008  0.120234   \n",
       "7   AAPL          2014  0.385880  0.170024  0.085643  0.292386  0.112650   \n",
       "8   AAPL          2013  0.376245  0.168419  0.069591  0.258102  0.105079   \n",
       "9   AAPL          2012  0.438712  0.146224  0.049241  0.225044  0.047727   \n",
       "\n",
       "   E (CAPEX)    F (NR)  currentRatio   G (ROA)  H (LD/GP)  debtToEquity  \\\n",
       "0  -0.117079  0.544001      1.074553  0.269742   0.713876      1.729371   \n",
       "1  -0.127310  0.652227      1.363604  0.177256   0.940080      1.510078   \n",
       "2  -0.189934  0.828942      1.540126  0.163230   0.933074      1.014577   \n",
       "3  -0.223631  0.823017      1.123843  0.162775   0.920423      0.874826   \n",
       "4  -0.264627  0.737792      1.276063  0.128826   1.102295      0.725171   \n",
       "5  -0.296539  0.641298      1.352669  0.142024   0.895138      0.588129   \n",
       "6  -0.215155  0.568285      1.108771  0.183814   0.571027      0.447933   \n",
       "7  -0.248368  0.688914      1.080113  0.170420   0.410947      0.259864   \n",
       "8  -0.245052  0.557308      1.678639  0.178923   0.263747      0.137273   \n",
       "9  -0.225289  0.447895      1.495849  0.237033   0.000000      0.000000   \n",
       "\n",
       "   Net Issuance  Interest - income  Buy =1  \n",
       "0     -1.479404           0.024277       1  \n",
       "1     -1.407629           0.043341       1  \n",
       "2     -1.463585           0.055936       1  \n",
       "3     -1.792717           0.045699       1  \n",
       "4     -0.901804           0.037868       1  \n",
       "5     -0.935234           0.024257       1  \n",
       "6     -1.266049           0.010291       1  \n",
       "7     -1.898941           0.007314       1  \n",
       "8     -1.129832           0.002776       1  \n",
       "9      0.040494           0.000000       1  "
      ]
     },
     "execution_count": 3,
     "metadata": {},
     "output_type": "execute_result"
    }
   ],
   "source": [
    "df.head(10)"
   ]
  },
  {
   "cell_type": "code",
   "execution_count": 4,
   "id": "d888221b",
   "metadata": {},
   "outputs": [
    {
     "data": {
      "text/plain": [
       "(1005, 16)"
      ]
     },
     "execution_count": 4,
     "metadata": {},
     "output_type": "execute_result"
    }
   ],
   "source": [
    "df.shape"
   ]
  },
  {
   "cell_type": "code",
   "execution_count": 5,
   "id": "c1fed639",
   "metadata": {},
   "outputs": [
    {
     "name": "stdout",
     "output_type": "stream",
     "text": [
      "<class 'pandas.core.frame.DataFrame'>\n",
      "RangeIndex: 1005 entries, 0 to 1004\n",
      "Data columns (total 16 columns):\n",
      " #   Column             Non-Null Count  Dtype  \n",
      "---  ------             --------------  -----  \n",
      " 0   symbol             1005 non-null   object \n",
      " 1   calendarYear       1005 non-null   int64  \n",
      " 2   GPM                1005 non-null   float64\n",
      " 3   A (SGA)            1005 non-null   float64\n",
      " 4   B (RD)             1005 non-null   float64\n",
      " 5   C (PPE)            1005 non-null   float64\n",
      " 6   D (DEPR)           1005 non-null   float64\n",
      " 7   E (CAPEX)          1005 non-null   float64\n",
      " 8   F (NR)             1005 non-null   float64\n",
      " 9   currentRatio       1001 non-null   float64\n",
      " 10  G (ROA)            1005 non-null   float64\n",
      " 11  H (LD/GP)          1005 non-null   float64\n",
      " 12  debtToEquity       1005 non-null   float64\n",
      " 13  Net Issuance       1005 non-null   float64\n",
      " 14  Interest - income  1005 non-null   float64\n",
      " 15  Buy =1             1005 non-null   int64  \n",
      "dtypes: float64(13), int64(2), object(1)\n",
      "memory usage: 125.8+ KB\n"
     ]
    }
   ],
   "source": [
    "df.info()"
   ]
  },
  {
   "cell_type": "markdown",
   "id": "a82b9653",
   "metadata": {},
   "source": [
    "<h3>Missing Data </h3>"
   ]
  },
  {
   "cell_type": "code",
   "execution_count": 6,
   "id": "5e436e0d",
   "metadata": {},
   "outputs": [
    {
     "name": "stdout",
     "output_type": "stream",
     "text": [
      "symbol               0\n",
      "calendarYear         0\n",
      "GPM                  0\n",
      "A (SGA)              0\n",
      "B (RD)               0\n",
      "C (PPE)              0\n",
      "D (DEPR)             0\n",
      "E (CAPEX)            0\n",
      "F (NR)               0\n",
      "currentRatio         4\n",
      "G (ROA)              0\n",
      "H (LD/GP)            0\n",
      "debtToEquity         0\n",
      "Net Issuance         0\n",
      "Interest - income    0\n",
      "Buy =1               0\n",
      "dtype: int64\n"
     ]
    }
   ],
   "source": [
    "print(df.isnull().sum())\n",
    "# after running the above we see that currentRatio has 4 missing values. Let's examine"
   ]
  },
  {
   "cell_type": "markdown",
   "id": "9632abed",
   "metadata": {},
   "source": [
    "<h3>Checking for Duplicates </h3>"
   ]
  },
  {
   "cell_type": "code",
   "execution_count": 7,
   "id": "646a7463",
   "metadata": {},
   "outputs": [
    {
     "data": {
      "text/plain": [
       "0"
      ]
     },
     "execution_count": 7,
     "metadata": {},
     "output_type": "execute_result"
    }
   ],
   "source": [
    "#  Check whether a row is a duplicated version of a previous row\n",
    "df.duplicated().sum()"
   ]
  },
  {
   "cell_type": "markdown",
   "id": "ad9f422f",
   "metadata": {},
   "source": [
    "<p>We found 4 missing values: <b> Less than 30% of values missing: impute a value that makes sense e.g. Median, mean, mode.</b>\n",
    " </p>"
   ]
  },
  {
   "cell_type": "code",
   "execution_count": 8,
   "id": "36fd2d53",
   "metadata": {},
   "outputs": [],
   "source": [
    "from sklearn.impute import SimpleImputer"
   ]
  },
  {
   "cell_type": "code",
   "execution_count": 9,
   "id": "c12ff55b",
   "metadata": {},
   "outputs": [
    {
     "data": {
      "text/plain": [
       "array([1.43231917])"
      ]
     },
     "execution_count": 9,
     "metadata": {},
     "output_type": "execute_result"
    }
   ],
   "source": [
    "imputer = SimpleImputer(strategy=\"mean\") # Instanciate a SimpleImputer object with strategy of choice\n",
    "imputer.fit(df[['currentRatio']]) # Call the \"fit\" method on the object\n",
    "df['currentRatio'] = imputer.transform(df[['currentRatio']]) # Call the \"transform\" method on the object\n",
    "imputer.statistics_ # The mean is stored in the transformer's memory"
   ]
  },
  {
   "cell_type": "markdown",
   "id": "339eddfb",
   "metadata": {},
   "source": [
    "<h2>Let's examine each feature and their Dtype </h2>\n",
    "<h3>Let's change CalendarYear to a date time series</h3>"
   ]
  },
  {
   "cell_type": "code",
   "execution_count": 10,
   "id": "7bfb321d",
   "metadata": {},
   "outputs": [
    {
     "name": "stdout",
     "output_type": "stream",
     "text": [
      "<class 'pandas.core.frame.DataFrame'>\n",
      "RangeIndex: 1005 entries, 0 to 1004\n",
      "Data columns (total 16 columns):\n",
      " #   Column             Non-Null Count  Dtype  \n",
      "---  ------             --------------  -----  \n",
      " 0   symbol             1005 non-null   object \n",
      " 1   calendarYear       1005 non-null   int64  \n",
      " 2   GPM                1005 non-null   float64\n",
      " 3   A (SGA)            1005 non-null   float64\n",
      " 4   B (RD)             1005 non-null   float64\n",
      " 5   C (PPE)            1005 non-null   float64\n",
      " 6   D (DEPR)           1005 non-null   float64\n",
      " 7   E (CAPEX)          1005 non-null   float64\n",
      " 8   F (NR)             1005 non-null   float64\n",
      " 9   currentRatio       1005 non-null   float64\n",
      " 10  G (ROA)            1005 non-null   float64\n",
      " 11  H (LD/GP)          1005 non-null   float64\n",
      " 12  debtToEquity       1005 non-null   float64\n",
      " 13  Net Issuance       1005 non-null   float64\n",
      " 14  Interest - income  1005 non-null   float64\n",
      " 15  Buy =1             1005 non-null   int64  \n",
      "dtypes: float64(13), int64(2), object(1)\n",
      "memory usage: 125.8+ KB\n"
     ]
    }
   ],
   "source": [
    "df.info()"
   ]
  },
  {
   "cell_type": "code",
   "execution_count": 11,
   "id": "00bf4852",
   "metadata": {},
   "outputs": [],
   "source": [
    "df['calendarYear'] = pd.to_datetime(df['calendarYear'], format='%Y')\n",
    "df['calendarYear'] = df['calendarYear'].dt.year"
   ]
  },
  {
   "cell_type": "markdown",
   "id": "8eb35e8d",
   "metadata": {},
   "source": [
    "<h2>Feature scaling is essential for machine learning algorithms that calculate distances between data. </h2>"
   ]
  },
  {
   "cell_type": "code",
   "execution_count": 12,
   "id": "06ffd763",
   "metadata": {},
   "outputs": [],
   "source": [
    "df = df.drop(columns='calendarYear')"
   ]
  },
  {
   "cell_type": "code",
   "execution_count": 13,
   "id": "0bfd2a65",
   "metadata": {},
   "outputs": [
    {
     "data": {
      "text/plain": [
       "array([[<AxesSubplot:title={'center':'GPM'}>,\n",
       "        <AxesSubplot:title={'center':'A (SGA)'}>,\n",
       "        <AxesSubplot:title={'center':'B (RD)'}>,\n",
       "        <AxesSubplot:title={'center':'C (PPE)'}>],\n",
       "       [<AxesSubplot:title={'center':'D (DEPR)'}>,\n",
       "        <AxesSubplot:title={'center':'E (CAPEX)'}>,\n",
       "        <AxesSubplot:title={'center':'F (NR)'}>,\n",
       "        <AxesSubplot:title={'center':'currentRatio'}>],\n",
       "       [<AxesSubplot:title={'center':'G (ROA)'}>,\n",
       "        <AxesSubplot:title={'center':'H (LD/GP)'}>,\n",
       "        <AxesSubplot:title={'center':'debtToEquity'}>,\n",
       "        <AxesSubplot:title={'center':'Net Issuance'}>],\n",
       "       [<AxesSubplot:title={'center':'Interest - income'}>,\n",
       "        <AxesSubplot:title={'center':'Buy =1'}>, <AxesSubplot:>,\n",
       "        <AxesSubplot:>]], dtype=object)"
      ]
     },
     "execution_count": 13,
     "metadata": {},
     "output_type": "execute_result"
    },
    {
     "data": {
      "image/png": "[encoded data removed]",
      "text/plain": [
       "<Figure size 1440x1440 with 16 Axes>"
      ]
     },
     "metadata": {
      "needs_background": "light"
     },
     "output_type": "display_data"
    }
   ],
   "source": [
    "df.hist(figsize=(20,20))"
   ]
  },
  {
   "cell_type": "code",
   "execution_count": 14,
   "id": "ac7656a0",
   "metadata": {},
   "outputs": [],
   "source": [
    "#function to return plots for the feature to see normal distribution\n",
    "def normality(data,feature):\n",
    "    plt.figure(figsize=(10,5))\n",
    "    plt.subplot(1,2,1)\n",
    "    sns.kdeplot(data[feature])\n",
    "    plt.subplot(1,2,2)\n",
    "    stats.probplot(data[feature],plot=pylab)\n",
    "    plt.show()"
   ]
  },
  {
   "cell_type": "markdown",
   "id": "b3ed9f07",
   "metadata": {},
   "source": [
    "<b>A (SGA)</b>"
   ]
  },
  {
   "cell_type": "code",
   "execution_count": 15,
   "id": "a233b940",
   "metadata": {},
   "outputs": [
    {
     "data": {
      "image/png": "[encoded data removed]",
      "text/plain": [
       "<Figure size 720x360 with 2 Axes>"
      ]
     },
     "metadata": {
      "needs_background": "light"
     },
     "output_type": "display_data"
    }
   ],
   "source": [
    "normality(df,'A (SGA)') \n",
    "#from the graphs I conclude this is normal distribution will use Robust"
   ]
  },
  {
   "cell_type": "code",
   "execution_count": 16,
   "id": "cea5c872",
   "metadata": {},
   "outputs": [],
   "source": [
    "columns_name = []\n",
    "# for each column in the dataframe\n",
    "for (columnName, columnData) in df.iteritems():\n",
    "    columns_name.append(columnName)"
   ]
  },
  {
   "cell_type": "code",
   "execution_count": 17,
   "id": "968f3d9a",
   "metadata": {},
   "outputs": [
    {
     "data": {
      "text/plain": [
       "['GPM',\n",
       " 'A (SGA)',\n",
       " 'B (RD)',\n",
       " 'C (PPE)',\n",
       " 'D (DEPR)',\n",
       " 'E (CAPEX)',\n",
       " 'F (NR)',\n",
       " 'currentRatio',\n",
       " 'G (ROA)',\n",
       " 'H (LD/GP)',\n",
       " 'debtToEquity',\n",
       " 'Net Issuance',\n",
       " 'Interest - income',\n",
       " 'Buy =1']"
      ]
     },
     "execution_count": 17,
     "metadata": {},
     "output_type": "execute_result"
    }
   ],
   "source": [
    "columns_name.remove('symbol')\n",
    "columns_name"
   ]
  },
  {
   "cell_type": "markdown",
   "id": "3872aacc",
   "metadata": {},
   "source": [
    "<p>GPM</p>"
   ]
  },
  {
   "cell_type": "code",
   "execution_count": 18,
   "id": "b213c5f9",
   "metadata": {},
   "outputs": [
    {
     "data": {
      "image/png": "[encoded data removed]",
      "text/plain": [
       "<Figure size 720x360 with 2 Axes>"
      ]
     },
     "metadata": {
      "needs_background": "light"
     },
     "output_type": "display_data"
    }
   ],
   "source": [
    "normality(df,columns_name[0]) #robust scaler"
   ]
  },
  {
   "cell_type": "markdown",
   "id": "5eed88f1",
   "metadata": {},
   "source": [
    "<b>B (RD) </b>"
   ]
  },
  {
   "cell_type": "code",
   "execution_count": 19,
   "id": "f59786f5",
   "metadata": {},
   "outputs": [
    {
     "data": {
      "image/png": "[encoded data removed]",
      "text/plain": [
       "<Figure size 720x360 with 2 Axes>"
      ]
     },
     "metadata": {
      "needs_background": "light"
     },
     "output_type": "display_data"
    }
   ],
   "source": [
    "normality(df,columns_name[2]) #robust scaler"
   ]
  },
  {
   "cell_type": "markdown",
   "id": "7bb1571b",
   "metadata": {},
   "source": [
    "<b>'C (PPE)'</b>"
   ]
  },
  {
   "cell_type": "code",
   "execution_count": 20,
   "id": "cccdd4f0",
   "metadata": {},
   "outputs": [
    {
     "data": {
      "image/png": "[encoded data removed]",
      "text/plain": [
       "<Figure size 720x360 with 2 Axes>"
      ]
     },
     "metadata": {
      "needs_background": "light"
     },
     "output_type": "display_data"
    }
   ],
   "source": [
    "normality(df,columns_name[3]) #robust"
   ]
  },
  {
   "cell_type": "markdown",
   "id": "dbc8a4d7",
   "metadata": {},
   "source": [
    "<b> 'D (DEPR)' </b>"
   ]
  },
  {
   "cell_type": "code",
   "execution_count": 21,
   "id": "cbc362b8",
   "metadata": {},
   "outputs": [
    {
     "data": {
      "image/png": "[encoded data removed]",
      "text/plain": [
       "<Figure size 720x360 with 2 Axes>"
      ]
     },
     "metadata": {
      "needs_background": "light"
     },
     "output_type": "display_data"
    }
   ],
   "source": [
    "normality(df,columns_name[4]) #robust"
   ]
  },
  {
   "cell_type": "markdown",
   "id": "3834080b",
   "metadata": {},
   "source": [
    "<b>  'E (CAPEX)'</b>"
   ]
  },
  {
   "cell_type": "code",
   "execution_count": 22,
   "id": "c3bb4e41",
   "metadata": {},
   "outputs": [
    {
     "data": {
      "image/png": "[encoded data removed]",
      "text/plain": [
       "<Figure size 720x360 with 2 Axes>"
      ]
     },
     "metadata": {
      "needs_background": "light"
     },
     "output_type": "display_data"
    }
   ],
   "source": [
    "normality(df,columns_name[5]) #robust"
   ]
  },
  {
   "cell_type": "markdown",
   "id": "0830ab6c",
   "metadata": {},
   "source": [
    "<b> 'F (NR)'</b>"
   ]
  },
  {
   "cell_type": "code",
   "execution_count": 23,
   "id": "6f0d45e6",
   "metadata": {},
   "outputs": [
    {
     "data": {
      "image/png": "[encoded data removed]",
      "text/plain": [
       "<Figure size 720x360 with 2 Axes>"
      ]
     },
     "metadata": {
      "needs_background": "light"
     },
     "output_type": "display_data"
    }
   ],
   "source": [
    "normality(df,columns_name[6]) #robust"
   ]
  },
  {
   "cell_type": "markdown",
   "id": "4cf91ad4",
   "metadata": {},
   "source": [
    "<b> currentRatio</b>"
   ]
  },
  {
   "cell_type": "code",
   "execution_count": 24,
   "id": "6fa86f34",
   "metadata": {},
   "outputs": [
    {
     "data": {
      "image/png": "[encoded data removed]",
      "text/plain": [
       "<Figure size 720x360 with 2 Axes>"
      ]
     },
     "metadata": {
      "needs_background": "light"
     },
     "output_type": "display_data"
    }
   ],
   "source": [
    "normality(df,columns_name[7]) #min max???"
   ]
  },
  {
   "cell_type": "code",
   "execution_count": 25,
   "id": "0ee53cd1",
   "metadata": {},
   "outputs": [],
   "source": [
    "# 'G (ROA)',\n",
    "#  'H (LD/GP)',\n",
    "#  'debtToEquity',\n",
    "#  'Net Issuance',\n",
    "#  'Interest - income',\n",
    "#  'Buy =1']"
   ]
  },
  {
   "cell_type": "markdown",
   "id": "8146499b",
   "metadata": {},
   "source": [
    "<b> G (ROA)</b>"
   ]
  },
  {
   "cell_type": "code",
   "execution_count": 26,
   "id": "facae043",
   "metadata": {},
   "outputs": [
    {
     "data": {
      "image/png": "[encoded data removed]",
      "text/plain": [
       "<Figure size 720x360 with 2 Axes>"
      ]
     },
     "metadata": {
      "needs_background": "light"
     },
     "output_type": "display_data"
    }
   ],
   "source": [
    "normality(df,columns_name[8]) #robust"
   ]
  },
  {
   "cell_type": "markdown",
   "id": "a34ffb8e",
   "metadata": {},
   "source": [
    "<b>H (LD/GP)</b>"
   ]
  },
  {
   "cell_type": "code",
   "execution_count": 27,
   "id": "f2d2edb9",
   "metadata": {},
   "outputs": [
    {
     "data": {
      "image/png": "[encoded data removed]",
      "text/plain": [
       "<Figure size 720x360 with 2 Axes>"
      ]
     },
     "metadata": {
      "needs_background": "light"
     },
     "output_type": "display_data"
    }
   ],
   "source": [
    "normality(df,columns_name[9]) #robust"
   ]
  },
  {
   "cell_type": "markdown",
   "id": "b517018d",
   "metadata": {},
   "source": [
    "<b>debtToEquity </b>"
   ]
  },
  {
   "cell_type": "code",
   "execution_count": 28,
   "id": "4ad3b239",
   "metadata": {},
   "outputs": [
    {
     "data": {
      "image/png": "[encoded data removed]",
      "text/plain": [
       "<Figure size 720x360 with 2 Axes>"
      ]
     },
     "metadata": {
      "needs_background": "light"
     },
     "output_type": "display_data"
    }
   ],
   "source": [
    "normality(df,columns_name[10]) #robust"
   ]
  },
  {
   "cell_type": "markdown",
   "id": "6e8ff10b",
   "metadata": {},
   "source": [
    "<b>Net Issuance</b>"
   ]
  },
  {
   "cell_type": "code",
   "execution_count": 29,
   "id": "2c816181",
   "metadata": {},
   "outputs": [
    {
     "data": {
      "image/png": "[encoded data removed]",
      "text/plain": [
       "<Figure size 720x360 with 2 Axes>"
      ]
     },
     "metadata": {
      "needs_background": "light"
     },
     "output_type": "display_data"
    }
   ],
   "source": [
    "normality(df,columns_name[11]) #robust"
   ]
  },
  {
   "cell_type": "markdown",
   "id": "7e7883d1",
   "metadata": {},
   "source": [
    "<b>Interest - income'</b>"
   ]
  },
  {
   "cell_type": "code",
   "execution_count": 30,
   "id": "06ec7e39",
   "metadata": {},
   "outputs": [
    {
     "data": {
      "image/png": "[encoded data removed]",
      "text/plain": [
       "<Figure size 720x360 with 2 Axes>"
      ]
     },
     "metadata": {
      "needs_background": "light"
     },
     "output_type": "display_data"
    }
   ],
   "source": [
    "normality(df,columns_name[12]) #robust"
   ]
  },
  {
   "cell_type": "markdown",
   "id": "861b66ac",
   "metadata": {},
   "source": [
    "<h1> Based off the Q plots and normal distribution I will choose Robust Scaling for all the features </h1>"
   ]
  },
  {
   "cell_type": "code",
   "execution_count": 31,
   "id": "2fdc0a0e",
   "metadata": {},
   "outputs": [
    {
     "name": "stdout",
     "output_type": "stream",
     "text": [
      "<class 'pandas.core.frame.DataFrame'>\n",
      "RangeIndex: 1005 entries, 0 to 1004\n",
      "Data columns (total 15 columns):\n",
      " #   Column             Non-Null Count  Dtype  \n",
      "---  ------             --------------  -----  \n",
      " 0   symbol             1005 non-null   object \n",
      " 1   GPM                1005 non-null   float64\n",
      " 2   A (SGA)            1005 non-null   float64\n",
      " 3   B (RD)             1005 non-null   float64\n",
      " 4   C (PPE)            1005 non-null   float64\n",
      " 5   D (DEPR)           1005 non-null   float64\n",
      " 6   E (CAPEX)          1005 non-null   float64\n",
      " 7   F (NR)             1005 non-null   float64\n",
      " 8   currentRatio       1005 non-null   float64\n",
      " 9   G (ROA)            1005 non-null   float64\n",
      " 10  H (LD/GP)          1005 non-null   float64\n",
      " 11  debtToEquity       1005 non-null   float64\n",
      " 12  Net Issuance       1005 non-null   float64\n",
      " 13  Interest - income  1005 non-null   float64\n",
      " 14  Buy =1             1005 non-null   int64  \n",
      "dtypes: float64(13), int64(1), object(1)\n",
      "memory usage: 117.9+ KB\n"
     ]
    }
   ],
   "source": [
    "df.info()"
   ]
  },
  {
   "cell_type": "code",
   "execution_count": 32,
   "id": "67af0e00",
   "metadata": {},
   "outputs": [],
   "source": [
    "# df = df.drop(columns='symbol')\n"
   ]
  },
  {
   "cell_type": "code",
   "execution_count": 33,
   "id": "b9eda9ca",
   "metadata": {},
   "outputs": [],
   "source": [
    "# # let's explore the datafeatures correlation\n",
    "# # correlation \n",
    "# corr = df.corr()\n",
    "# top_corr_feat = corr.index\n",
    "# plt.figure(figsize=(16, 10))\n",
    "# sns.heatmap(df[top_corr_feat].corr(), annot=True, fmt='.0%')"
   ]
  },
  {
   "cell_type": "code",
   "execution_count": 34,
   "id": "67128fe9",
   "metadata": {},
   "outputs": [],
   "source": [
    "robust_scaler = RobustScaler() # instantiate\n",
    "# robust_scaler.fit(X.iloc[:, 1: ]) #fit scaler to feature\n",
    "# X_rescaled = robust_scaler.transform(X.iloc[:, 1: ]) #Scale\n"
   ]
  },
  {
   "cell_type": "code",
   "execution_count": 35,
   "id": "25eb18c1",
   "metadata": {},
   "outputs": [],
   "source": [
    "# one hot encode the lender\n",
    "from sklearn.preprocessing import OneHotEncoder\n",
    "encoder = OneHotEncoder()\n",
    "final_ohe = encoder.fit_transform(df.symbol.values.reshape(-1,1)).toarray()\n",
    "final_dfOneHot = pd.DataFrame(final_ohe, columns=['Stock_'+str(encoder.categories_[0][i]) for i in range(len(encoder.categories_[0]))])\n"
   ]
  },
  {
   "cell_type": "code",
   "execution_count": 36,
   "id": "e4ee7a98",
   "metadata": {},
   "outputs": [
    {
     "data": {
      "text/html": [
       "<div>\n",
       "<style scoped>\n",
       "    .dataframe tbody tr th:only-of-type {\n",
       "        vertical-align: middle;\n",
       "    }\n",
       "\n",
       "    .dataframe tbody tr th {\n",
       "        vertical-align: top;\n",
       "    }\n",
       "\n",
       "    .dataframe thead th {\n",
       "        text-align: right;\n",
       "    }\n",
       "</style>\n",
       "<table border=\"1\" class=\"dataframe\">\n",
       "  <thead>\n",
       "    <tr style=\"text-align: right;\">\n",
       "      <th></th>\n",
       "      <th>Stock_AAPL</th>\n",
       "      <th>Stock_ALL</th>\n",
       "      <th>Stock_AMZN</th>\n",
       "      <th>Stock_AXP</th>\n",
       "      <th>Stock_BTI</th>\n",
       "      <th>Stock_BUD</th>\n",
       "      <th>Stock_CNI</th>\n",
       "      <th>Stock_CSCO</th>\n",
       "      <th>Stock_CSX</th>\n",
       "      <th>Stock_DFS</th>\n",
       "      <th>...</th>\n",
       "      <th>Stock_PEP</th>\n",
       "      <th>Stock_PG</th>\n",
       "      <th>Stock_PGR</th>\n",
       "      <th>Stock_PM</th>\n",
       "      <th>Stock_PZZA</th>\n",
       "      <th>Stock_SBUX</th>\n",
       "      <th>Stock_TAP</th>\n",
       "      <th>Stock_WFC</th>\n",
       "      <th>Stock_WMT</th>\n",
       "      <th>Stock_YUM</th>\n",
       "    </tr>\n",
       "  </thead>\n",
       "  <tbody>\n",
       "    <tr>\n",
       "      <th>0</th>\n",
       "      <td>1.0</td>\n",
       "      <td>0.0</td>\n",
       "      <td>0.0</td>\n",
       "      <td>0.0</td>\n",
       "      <td>0.0</td>\n",
       "      <td>0.0</td>\n",
       "      <td>0.0</td>\n",
       "      <td>0.0</td>\n",
       "      <td>0.0</td>\n",
       "      <td>0.0</td>\n",
       "      <td>...</td>\n",
       "      <td>0.0</td>\n",
       "      <td>0.0</td>\n",
       "      <td>0.0</td>\n",
       "      <td>0.0</td>\n",
       "      <td>0.0</td>\n",
       "      <td>0.0</td>\n",
       "      <td>0.0</td>\n",
       "      <td>0.0</td>\n",
       "      <td>0.0</td>\n",
       "      <td>0.0</td>\n",
       "    </tr>\n",
       "    <tr>\n",
       "      <th>1</th>\n",
       "      <td>1.0</td>\n",
       "      <td>0.0</td>\n",
       "      <td>0.0</td>\n",
       "      <td>0.0</td>\n",
       "      <td>0.0</td>\n",
       "      <td>0.0</td>\n",
       "      <td>0.0</td>\n",
       "      <td>0.0</td>\n",
       "      <td>0.0</td>\n",
       "      <td>0.0</td>\n",
       "      <td>...</td>\n",
       "      <td>0.0</td>\n",
       "      <td>0.0</td>\n",
       "      <td>0.0</td>\n",
       "      <td>0.0</td>\n",
       "      <td>0.0</td>\n",
       "      <td>0.0</td>\n",
       "      <td>0.0</td>\n",
       "      <td>0.0</td>\n",
       "      <td>0.0</td>\n",
       "      <td>0.0</td>\n",
       "    </tr>\n",
       "    <tr>\n",
       "      <th>2</th>\n",
       "      <td>1.0</td>\n",
       "      <td>0.0</td>\n",
       "      <td>0.0</td>\n",
       "      <td>0.0</td>\n",
       "      <td>0.0</td>\n",
       "      <td>0.0</td>\n",
       "      <td>0.0</td>\n",
       "      <td>0.0</td>\n",
       "      <td>0.0</td>\n",
       "      <td>0.0</td>\n",
       "      <td>...</td>\n",
       "      <td>0.0</td>\n",
       "      <td>0.0</td>\n",
       "      <td>0.0</td>\n",
       "      <td>0.0</td>\n",
       "      <td>0.0</td>\n",
       "      <td>0.0</td>\n",
       "      <td>0.0</td>\n",
       "      <td>0.0</td>\n",
       "      <td>0.0</td>\n",
       "      <td>0.0</td>\n",
       "    </tr>\n",
       "    <tr>\n",
       "      <th>3</th>\n",
       "      <td>1.0</td>\n",
       "      <td>0.0</td>\n",
       "      <td>0.0</td>\n",
       "      <td>0.0</td>\n",
       "      <td>0.0</td>\n",
       "      <td>0.0</td>\n",
       "      <td>0.0</td>\n",
       "      <td>0.0</td>\n",
       "      <td>0.0</td>\n",
       "      <td>0.0</td>\n",
       "      <td>...</td>\n",
       "      <td>0.0</td>\n",
       "      <td>0.0</td>\n",
       "      <td>0.0</td>\n",
       "      <td>0.0</td>\n",
       "      <td>0.0</td>\n",
       "      <td>0.0</td>\n",
       "      <td>0.0</td>\n",
       "      <td>0.0</td>\n",
       "      <td>0.0</td>\n",
       "      <td>0.0</td>\n",
       "    </tr>\n",
       "    <tr>\n",
       "      <th>4</th>\n",
       "      <td>1.0</td>\n",
       "      <td>0.0</td>\n",
       "      <td>0.0</td>\n",
       "      <td>0.0</td>\n",
       "      <td>0.0</td>\n",
       "      <td>0.0</td>\n",
       "      <td>0.0</td>\n",
       "      <td>0.0</td>\n",
       "      <td>0.0</td>\n",
       "      <td>0.0</td>\n",
       "      <td>...</td>\n",
       "      <td>0.0</td>\n",
       "      <td>0.0</td>\n",
       "      <td>0.0</td>\n",
       "      <td>0.0</td>\n",
       "      <td>0.0</td>\n",
       "      <td>0.0</td>\n",
       "      <td>0.0</td>\n",
       "      <td>0.0</td>\n",
       "      <td>0.0</td>\n",
       "      <td>0.0</td>\n",
       "    </tr>\n",
       "    <tr>\n",
       "      <th>...</th>\n",
       "      <td>...</td>\n",
       "      <td>...</td>\n",
       "      <td>...</td>\n",
       "      <td>...</td>\n",
       "      <td>...</td>\n",
       "      <td>...</td>\n",
       "      <td>...</td>\n",
       "      <td>...</td>\n",
       "      <td>...</td>\n",
       "      <td>...</td>\n",
       "      <td>...</td>\n",
       "      <td>...</td>\n",
       "      <td>...</td>\n",
       "      <td>...</td>\n",
       "      <td>...</td>\n",
       "      <td>...</td>\n",
       "      <td>...</td>\n",
       "      <td>...</td>\n",
       "      <td>...</td>\n",
       "      <td>...</td>\n",
       "      <td>...</td>\n",
       "    </tr>\n",
       "    <tr>\n",
       "      <th>1000</th>\n",
       "      <td>0.0</td>\n",
       "      <td>0.0</td>\n",
       "      <td>0.0</td>\n",
       "      <td>0.0</td>\n",
       "      <td>0.0</td>\n",
       "      <td>0.0</td>\n",
       "      <td>0.0</td>\n",
       "      <td>0.0</td>\n",
       "      <td>0.0</td>\n",
       "      <td>0.0</td>\n",
       "      <td>...</td>\n",
       "      <td>0.0</td>\n",
       "      <td>0.0</td>\n",
       "      <td>0.0</td>\n",
       "      <td>0.0</td>\n",
       "      <td>0.0</td>\n",
       "      <td>0.0</td>\n",
       "      <td>0.0</td>\n",
       "      <td>0.0</td>\n",
       "      <td>0.0</td>\n",
       "      <td>1.0</td>\n",
       "    </tr>\n",
       "    <tr>\n",
       "      <th>1001</th>\n",
       "      <td>0.0</td>\n",
       "      <td>0.0</td>\n",
       "      <td>0.0</td>\n",
       "      <td>0.0</td>\n",
       "      <td>0.0</td>\n",
       "      <td>0.0</td>\n",
       "      <td>0.0</td>\n",
       "      <td>0.0</td>\n",
       "      <td>0.0</td>\n",
       "      <td>0.0</td>\n",
       "      <td>...</td>\n",
       "      <td>0.0</td>\n",
       "      <td>0.0</td>\n",
       "      <td>0.0</td>\n",
       "      <td>0.0</td>\n",
       "      <td>0.0</td>\n",
       "      <td>0.0</td>\n",
       "      <td>0.0</td>\n",
       "      <td>0.0</td>\n",
       "      <td>0.0</td>\n",
       "      <td>1.0</td>\n",
       "    </tr>\n",
       "    <tr>\n",
       "      <th>1002</th>\n",
       "      <td>0.0</td>\n",
       "      <td>0.0</td>\n",
       "      <td>0.0</td>\n",
       "      <td>0.0</td>\n",
       "      <td>0.0</td>\n",
       "      <td>0.0</td>\n",
       "      <td>0.0</td>\n",
       "      <td>0.0</td>\n",
       "      <td>0.0</td>\n",
       "      <td>0.0</td>\n",
       "      <td>...</td>\n",
       "      <td>0.0</td>\n",
       "      <td>0.0</td>\n",
       "      <td>0.0</td>\n",
       "      <td>0.0</td>\n",
       "      <td>0.0</td>\n",
       "      <td>0.0</td>\n",
       "      <td>0.0</td>\n",
       "      <td>0.0</td>\n",
       "      <td>0.0</td>\n",
       "      <td>1.0</td>\n",
       "    </tr>\n",
       "    <tr>\n",
       "      <th>1003</th>\n",
       "      <td>0.0</td>\n",
       "      <td>0.0</td>\n",
       "      <td>0.0</td>\n",
       "      <td>0.0</td>\n",
       "      <td>0.0</td>\n",
       "      <td>0.0</td>\n",
       "      <td>0.0</td>\n",
       "      <td>0.0</td>\n",
       "      <td>0.0</td>\n",
       "      <td>0.0</td>\n",
       "      <td>...</td>\n",
       "      <td>0.0</td>\n",
       "      <td>0.0</td>\n",
       "      <td>0.0</td>\n",
       "      <td>0.0</td>\n",
       "      <td>0.0</td>\n",
       "      <td>0.0</td>\n",
       "      <td>0.0</td>\n",
       "      <td>0.0</td>\n",
       "      <td>0.0</td>\n",
       "      <td>1.0</td>\n",
       "    </tr>\n",
       "    <tr>\n",
       "      <th>1004</th>\n",
       "      <td>0.0</td>\n",
       "      <td>0.0</td>\n",
       "      <td>0.0</td>\n",
       "      <td>0.0</td>\n",
       "      <td>0.0</td>\n",
       "      <td>0.0</td>\n",
       "      <td>0.0</td>\n",
       "      <td>0.0</td>\n",
       "      <td>0.0</td>\n",
       "      <td>0.0</td>\n",
       "      <td>...</td>\n",
       "      <td>0.0</td>\n",
       "      <td>0.0</td>\n",
       "      <td>0.0</td>\n",
       "      <td>0.0</td>\n",
       "      <td>0.0</td>\n",
       "      <td>0.0</td>\n",
       "      <td>0.0</td>\n",
       "      <td>0.0</td>\n",
       "      <td>0.0</td>\n",
       "      <td>1.0</td>\n",
       "    </tr>\n",
       "  </tbody>\n",
       "</table>\n",
       "<p>1005 rows × 34 columns</p>\n",
       "</div>"
      ],
      "text/plain": [
       "      Stock_AAPL  Stock_ALL  Stock_AMZN  Stock_AXP  Stock_BTI  Stock_BUD  \\\n",
       "0            1.0        0.0         0.0        0.0        0.0        0.0   \n",
       "1            1.0        0.0         0.0        0.0        0.0        0.0   \n",
       "2            1.0        0.0         0.0        0.0        0.0        0.0   \n",
       "3            1.0        0.0         0.0        0.0        0.0        0.0   \n",
       "4            1.0        0.0         0.0        0.0        0.0        0.0   \n",
       "...          ...        ...         ...        ...        ...        ...   \n",
       "1000         0.0        0.0         0.0        0.0        0.0        0.0   \n",
       "1001         0.0        0.0         0.0        0.0        0.0        0.0   \n",
       "1002         0.0        0.0         0.0        0.0        0.0        0.0   \n",
       "1003         0.0        0.0         0.0        0.0        0.0        0.0   \n",
       "1004         0.0        0.0         0.0        0.0        0.0        0.0   \n",
       "\n",
       "      Stock_CNI  Stock_CSCO  Stock_CSX  Stock_DFS  ...  Stock_PEP  Stock_PG  \\\n",
       "0           0.0         0.0        0.0        0.0  ...        0.0       0.0   \n",
       "1           0.0         0.0        0.0        0.0  ...        0.0       0.0   \n",
       "2           0.0         0.0        0.0        0.0  ...        0.0       0.0   \n",
       "3           0.0         0.0        0.0        0.0  ...        0.0       0.0   \n",
       "4           0.0         0.0        0.0        0.0  ...        0.0       0.0   \n",
       "...         ...         ...        ...        ...  ...        ...       ...   \n",
       "1000        0.0         0.0        0.0        0.0  ...        0.0       0.0   \n",
       "1001        0.0         0.0        0.0        0.0  ...        0.0       0.0   \n",
       "1002        0.0         0.0        0.0        0.0  ...        0.0       0.0   \n",
       "1003        0.0         0.0        0.0        0.0  ...        0.0       0.0   \n",
       "1004        0.0         0.0        0.0        0.0  ...        0.0       0.0   \n",
       "\n",
       "      Stock_PGR  Stock_PM  Stock_PZZA  Stock_SBUX  Stock_TAP  Stock_WFC  \\\n",
       "0           0.0       0.0         0.0         0.0        0.0        0.0   \n",
       "1           0.0       0.0         0.0         0.0        0.0        0.0   \n",
       "2           0.0       0.0         0.0         0.0        0.0        0.0   \n",
       "3           0.0       0.0         0.0         0.0        0.0        0.0   \n",
       "4           0.0       0.0         0.0         0.0        0.0        0.0   \n",
       "...         ...       ...         ...         ...        ...        ...   \n",
       "1000        0.0       0.0         0.0         0.0        0.0        0.0   \n",
       "1001        0.0       0.0         0.0         0.0        0.0        0.0   \n",
       "1002        0.0       0.0         0.0         0.0        0.0        0.0   \n",
       "1003        0.0       0.0         0.0         0.0        0.0        0.0   \n",
       "1004        0.0       0.0         0.0         0.0        0.0        0.0   \n",
       "\n",
       "      Stock_WMT  Stock_YUM  \n",
       "0           0.0        0.0  \n",
       "1           0.0        0.0  \n",
       "2           0.0        0.0  \n",
       "3           0.0        0.0  \n",
       "4           0.0        0.0  \n",
       "...         ...        ...  \n",
       "1000        0.0        1.0  \n",
       "1001        0.0        1.0  \n",
       "1002        0.0        1.0  \n",
       "1003        0.0        1.0  \n",
       "1004        0.0        1.0  \n",
       "\n",
       "[1005 rows x 34 columns]"
      ]
     },
     "execution_count": 36,
     "metadata": {},
     "output_type": "execute_result"
    }
   ],
   "source": [
    "final_dfOneHot"
   ]
  },
  {
   "cell_type": "code",
   "execution_count": 37,
   "id": "855a357b",
   "metadata": {},
   "outputs": [],
   "source": [
    "# concat the dataframe of our stock holders (lenders)\n",
    "final_df = pd.concat([df, final_dfOneHot], axis=1)"
   ]
  },
  {
   "cell_type": "code",
   "execution_count": 38,
   "id": "de8bbb4e",
   "metadata": {},
   "outputs": [],
   "source": [
    "# lets drop symbol from our DF\n",
    "final_df = final_df.drop(columns='symbol')"
   ]
  },
  {
   "cell_type": "code",
   "execution_count": 39,
   "id": "a93ce129",
   "metadata": {},
   "outputs": [
    {
     "data": {
      "text/html": [
       "<div>\n",
       "<style scoped>\n",
       "    .dataframe tbody tr th:only-of-type {\n",
       "        vertical-align: middle;\n",
       "    }\n",
       "\n",
       "    .dataframe tbody tr th {\n",
       "        vertical-align: top;\n",
       "    }\n",
       "\n",
       "    .dataframe thead th {\n",
       "        text-align: right;\n",
       "    }\n",
       "</style>\n",
       "<table border=\"1\" class=\"dataframe\">\n",
       "  <thead>\n",
       "    <tr style=\"text-align: right;\">\n",
       "      <th></th>\n",
       "      <th>GPM</th>\n",
       "      <th>A (SGA)</th>\n",
       "      <th>B (RD)</th>\n",
       "      <th>C (PPE)</th>\n",
       "      <th>D (DEPR)</th>\n",
       "      <th>E (CAPEX)</th>\n",
       "      <th>F (NR)</th>\n",
       "      <th>currentRatio</th>\n",
       "      <th>G (ROA)</th>\n",
       "      <th>H (LD/GP)</th>\n",
       "      <th>...</th>\n",
       "      <th>Stock_PEP</th>\n",
       "      <th>Stock_PG</th>\n",
       "      <th>Stock_PGR</th>\n",
       "      <th>Stock_PM</th>\n",
       "      <th>Stock_PZZA</th>\n",
       "      <th>Stock_SBUX</th>\n",
       "      <th>Stock_TAP</th>\n",
       "      <th>Stock_WFC</th>\n",
       "      <th>Stock_WMT</th>\n",
       "      <th>Stock_YUM</th>\n",
       "    </tr>\n",
       "  </thead>\n",
       "  <tbody>\n",
       "    <tr>\n",
       "      <th>0</th>\n",
       "      <td>0.417794</td>\n",
       "      <td>0.143768</td>\n",
       "      <td>0.143382</td>\n",
       "      <td>0.258054</td>\n",
       "      <td>0.073831</td>\n",
       "      <td>-0.117079</td>\n",
       "      <td>0.544001</td>\n",
       "      <td>1.074553</td>\n",
       "      <td>0.269742</td>\n",
       "      <td>0.713876</td>\n",
       "      <td>...</td>\n",
       "      <td>0.0</td>\n",
       "      <td>0.0</td>\n",
       "      <td>0.0</td>\n",
       "      <td>0.0</td>\n",
       "      <td>0.0</td>\n",
       "      <td>0.0</td>\n",
       "      <td>0.0</td>\n",
       "      <td>0.0</td>\n",
       "      <td>0.0</td>\n",
       "      <td>0.0</td>\n",
       "    </tr>\n",
       "    <tr>\n",
       "      <th>1</th>\n",
       "      <td>0.382332</td>\n",
       "      <td>0.189756</td>\n",
       "      <td>0.178665</td>\n",
       "      <td>0.350299</td>\n",
       "      <td>0.105339</td>\n",
       "      <td>-0.127310</td>\n",
       "      <td>0.652227</td>\n",
       "      <td>1.363604</td>\n",
       "      <td>0.177256</td>\n",
       "      <td>0.940080</td>\n",
       "      <td>...</td>\n",
       "      <td>0.0</td>\n",
       "      <td>0.0</td>\n",
       "      <td>0.0</td>\n",
       "      <td>0.0</td>\n",
       "      <td>0.0</td>\n",
       "      <td>0.0</td>\n",
       "      <td>0.0</td>\n",
       "      <td>0.0</td>\n",
       "      <td>0.0</td>\n",
       "      <td>0.0</td>\n",
       "    </tr>\n",
       "    <tr>\n",
       "      <th>2</th>\n",
       "      <td>0.378178</td>\n",
       "      <td>0.185432</td>\n",
       "      <td>0.164820</td>\n",
       "      <td>0.379889</td>\n",
       "      <td>0.127521</td>\n",
       "      <td>-0.189934</td>\n",
       "      <td>0.828942</td>\n",
       "      <td>1.540126</td>\n",
       "      <td>0.163230</td>\n",
       "      <td>0.933074</td>\n",
       "      <td>...</td>\n",
       "      <td>0.0</td>\n",
       "      <td>0.0</td>\n",
       "      <td>0.0</td>\n",
       "      <td>0.0</td>\n",
       "      <td>0.0</td>\n",
       "      <td>0.0</td>\n",
       "      <td>0.0</td>\n",
       "      <td>0.0</td>\n",
       "      <td>0.0</td>\n",
       "      <td>0.0</td>\n",
       "    </tr>\n",
       "    <tr>\n",
       "      <th>3</th>\n",
       "      <td>0.383437</td>\n",
       "      <td>0.164033</td>\n",
       "      <td>0.139789</td>\n",
       "      <td>0.405581</td>\n",
       "      <td>0.107061</td>\n",
       "      <td>-0.223631</td>\n",
       "      <td>0.823017</td>\n",
       "      <td>1.123843</td>\n",
       "      <td>0.162775</td>\n",
       "      <td>0.920423</td>\n",
       "      <td>...</td>\n",
       "      <td>0.0</td>\n",
       "      <td>0.0</td>\n",
       "      <td>0.0</td>\n",
       "      <td>0.0</td>\n",
       "      <td>0.0</td>\n",
       "      <td>0.0</td>\n",
       "      <td>0.0</td>\n",
       "      <td>0.0</td>\n",
       "      <td>0.0</td>\n",
       "      <td>0.0</td>\n",
       "    </tr>\n",
       "    <tr>\n",
       "      <th>4</th>\n",
       "      <td>0.384699</td>\n",
       "      <td>0.173055</td>\n",
       "      <td>0.131325</td>\n",
       "      <td>0.383088</td>\n",
       "      <td>0.115177</td>\n",
       "      <td>-0.264627</td>\n",
       "      <td>0.737792</td>\n",
       "      <td>1.276063</td>\n",
       "      <td>0.128826</td>\n",
       "      <td>1.102295</td>\n",
       "      <td>...</td>\n",
       "      <td>0.0</td>\n",
       "      <td>0.0</td>\n",
       "      <td>0.0</td>\n",
       "      <td>0.0</td>\n",
       "      <td>0.0</td>\n",
       "      <td>0.0</td>\n",
       "      <td>0.0</td>\n",
       "      <td>0.0</td>\n",
       "      <td>0.0</td>\n",
       "      <td>0.0</td>\n",
       "    </tr>\n",
       "    <tr>\n",
       "      <th>...</th>\n",
       "      <td>...</td>\n",
       "      <td>...</td>\n",
       "      <td>...</td>\n",
       "      <td>...</td>\n",
       "      <td>...</td>\n",
       "      <td>...</td>\n",
       "      <td>...</td>\n",
       "      <td>...</td>\n",
       "      <td>...</td>\n",
       "      <td>...</td>\n",
       "      <td>...</td>\n",
       "      <td>...</td>\n",
       "      <td>...</td>\n",
       "      <td>...</td>\n",
       "      <td>...</td>\n",
       "      <td>...</td>\n",
       "      <td>...</td>\n",
       "      <td>...</td>\n",
       "      <td>...</td>\n",
       "      <td>...</td>\n",
       "      <td>...</td>\n",
       "    </tr>\n",
       "    <tr>\n",
       "      <th>1000</th>\n",
       "      <td>0.477492</td>\n",
       "      <td>0.731627</td>\n",
       "      <td>0.000000</td>\n",
       "      <td>0.914759</td>\n",
       "      <td>0.111446</td>\n",
       "      <td>0.117886</td>\n",
       "      <td>0.341463</td>\n",
       "      <td>0.542878</td>\n",
       "      <td>0.091111</td>\n",
       "      <td>0.692470</td>\n",
       "      <td>...</td>\n",
       "      <td>0.0</td>\n",
       "      <td>0.0</td>\n",
       "      <td>0.0</td>\n",
       "      <td>0.0</td>\n",
       "      <td>0.0</td>\n",
       "      <td>0.0</td>\n",
       "      <td>0.0</td>\n",
       "      <td>0.0</td>\n",
       "      <td>0.0</td>\n",
       "      <td>1.0</td>\n",
       "    </tr>\n",
       "    <tr>\n",
       "      <th>1001</th>\n",
       "      <td>0.473425</td>\n",
       "      <td>0.743895</td>\n",
       "      <td>0.000000</td>\n",
       "      <td>0.826980</td>\n",
       "      <td>0.105420</td>\n",
       "      <td>-1.539952</td>\n",
       "      <td>0.423729</td>\n",
       "      <td>0.551677</td>\n",
       "      <td>0.094120</td>\n",
       "      <td>0.462180</td>\n",
       "      <td>...</td>\n",
       "      <td>0.0</td>\n",
       "      <td>0.0</td>\n",
       "      <td>0.0</td>\n",
       "      <td>0.0</td>\n",
       "      <td>0.0</td>\n",
       "      <td>0.0</td>\n",
       "      <td>0.0</td>\n",
       "      <td>0.0</td>\n",
       "      <td>0.0</td>\n",
       "      <td>1.0</td>\n",
       "    </tr>\n",
       "    <tr>\n",
       "      <th>1002</th>\n",
       "      <td>0.460624</td>\n",
       "      <td>0.655842</td>\n",
       "      <td>0.000000</td>\n",
       "      <td>0.704968</td>\n",
       "      <td>0.098251</td>\n",
       "      <td>-0.912281</td>\n",
       "      <td>0.481659</td>\n",
       "      <td>0.480263</td>\n",
       "      <td>0.151121</td>\n",
       "      <td>0.665279</td>\n",
       "      <td>...</td>\n",
       "      <td>0.0</td>\n",
       "      <td>0.0</td>\n",
       "      <td>0.0</td>\n",
       "      <td>0.0</td>\n",
       "      <td>0.0</td>\n",
       "      <td>0.0</td>\n",
       "      <td>0.0</td>\n",
       "      <td>0.0</td>\n",
       "      <td>0.0</td>\n",
       "      <td>1.0</td>\n",
       "    </tr>\n",
       "    <tr>\n",
       "      <th>1003</th>\n",
       "      <td>0.437411</td>\n",
       "      <td>0.722462</td>\n",
       "      <td>0.000000</td>\n",
       "      <td>0.683315</td>\n",
       "      <td>0.104212</td>\n",
       "      <td>-1.056180</td>\n",
       "      <td>0.361798</td>\n",
       "      <td>0.303047</td>\n",
       "      <td>0.112345</td>\n",
       "      <td>0.645518</td>\n",
       "      <td>...</td>\n",
       "      <td>0.0</td>\n",
       "      <td>0.0</td>\n",
       "      <td>0.0</td>\n",
       "      <td>0.0</td>\n",
       "      <td>0.0</td>\n",
       "      <td>0.0</td>\n",
       "      <td>0.0</td>\n",
       "      <td>0.0</td>\n",
       "      <td>0.0</td>\n",
       "      <td>1.0</td>\n",
       "    </tr>\n",
       "    <tr>\n",
       "      <th>1004</th>\n",
       "      <td>0.425369</td>\n",
       "      <td>0.941476</td>\n",
       "      <td>0.000000</td>\n",
       "      <td>0.703254</td>\n",
       "      <td>0.101263</td>\n",
       "      <td>4.144144</td>\n",
       "      <td>-1.396396</td>\n",
       "      <td>0.565789</td>\n",
       "      <td>-0.024498</td>\n",
       "      <td>0.834386</td>\n",
       "      <td>...</td>\n",
       "      <td>0.0</td>\n",
       "      <td>0.0</td>\n",
       "      <td>0.0</td>\n",
       "      <td>0.0</td>\n",
       "      <td>0.0</td>\n",
       "      <td>0.0</td>\n",
       "      <td>0.0</td>\n",
       "      <td>0.0</td>\n",
       "      <td>0.0</td>\n",
       "      <td>1.0</td>\n",
       "    </tr>\n",
       "  </tbody>\n",
       "</table>\n",
       "<p>1005 rows × 48 columns</p>\n",
       "</div>"
      ],
      "text/plain": [
       "           GPM   A (SGA)    B (RD)   C (PPE)  D (DEPR)  E (CAPEX)    F (NR)  \\\n",
       "0     0.417794  0.143768  0.143382  0.258054  0.073831  -0.117079  0.544001   \n",
       "1     0.382332  0.189756  0.178665  0.350299  0.105339  -0.127310  0.652227   \n",
       "2     0.378178  0.185432  0.164820  0.379889  0.127521  -0.189934  0.828942   \n",
       "3     0.383437  0.164033  0.139789  0.405581  0.107061  -0.223631  0.823017   \n",
       "4     0.384699  0.173055  0.131325  0.383088  0.115177  -0.264627  0.737792   \n",
       "...        ...       ...       ...       ...       ...        ...       ...   \n",
       "1000  0.477492  0.731627  0.000000  0.914759  0.111446   0.117886  0.341463   \n",
       "1001  0.473425  0.743895  0.000000  0.826980  0.105420  -1.539952  0.423729   \n",
       "1002  0.460624  0.655842  0.000000  0.704968  0.098251  -0.912281  0.481659   \n",
       "1003  0.437411  0.722462  0.000000  0.683315  0.104212  -1.056180  0.361798   \n",
       "1004  0.425369  0.941476  0.000000  0.703254  0.101263   4.144144 -1.396396   \n",
       "\n",
       "      currentRatio   G (ROA)  H (LD/GP)  ...  Stock_PEP  Stock_PG  Stock_PGR  \\\n",
       "0         1.074553  0.269742   0.713876  ...        0.0       0.0        0.0   \n",
       "1         1.363604  0.177256   0.940080  ...        0.0       0.0        0.0   \n",
       "2         1.540126  0.163230   0.933074  ...        0.0       0.0        0.0   \n",
       "3         1.123843  0.162775   0.920423  ...        0.0       0.0        0.0   \n",
       "4         1.276063  0.128826   1.102295  ...        0.0       0.0        0.0   \n",
       "...            ...       ...        ...  ...        ...       ...        ...   \n",
       "1000      0.542878  0.091111   0.692470  ...        0.0       0.0        0.0   \n",
       "1001      0.551677  0.094120   0.462180  ...        0.0       0.0        0.0   \n",
       "1002      0.480263  0.151121   0.665279  ...        0.0       0.0        0.0   \n",
       "1003      0.303047  0.112345   0.645518  ...        0.0       0.0        0.0   \n",
       "1004      0.565789 -0.024498   0.834386  ...        0.0       0.0        0.0   \n",
       "\n",
       "      Stock_PM  Stock_PZZA  Stock_SBUX  Stock_TAP  Stock_WFC  Stock_WMT  \\\n",
       "0          0.0         0.0         0.0        0.0        0.0        0.0   \n",
       "1          0.0         0.0         0.0        0.0        0.0        0.0   \n",
       "2          0.0         0.0         0.0        0.0        0.0        0.0   \n",
       "3          0.0         0.0         0.0        0.0        0.0        0.0   \n",
       "4          0.0         0.0         0.0        0.0        0.0        0.0   \n",
       "...        ...         ...         ...        ...        ...        ...   \n",
       "1000       0.0         0.0         0.0        0.0        0.0        0.0   \n",
       "1001       0.0         0.0         0.0        0.0        0.0        0.0   \n",
       "1002       0.0         0.0         0.0        0.0        0.0        0.0   \n",
       "1003       0.0         0.0         0.0        0.0        0.0        0.0   \n",
       "1004       0.0         0.0         0.0        0.0        0.0        0.0   \n",
       "\n",
       "      Stock_YUM  \n",
       "0           0.0  \n",
       "1           0.0  \n",
       "2           0.0  \n",
       "3           0.0  \n",
       "4           0.0  \n",
       "...         ...  \n",
       "1000        1.0  \n",
       "1001        1.0  \n",
       "1002        1.0  \n",
       "1003        1.0  \n",
       "1004        1.0  \n",
       "\n",
       "[1005 rows x 48 columns]"
      ]
     },
     "execution_count": 39,
     "metadata": {},
     "output_type": "execute_result"
    }
   ],
   "source": [
    "final_df"
   ]
  },
  {
   "cell_type": "code",
   "execution_count": 40,
   "id": "ed44321c",
   "metadata": {},
   "outputs": [],
   "source": [
    "# features of X and create target y\n",
    "X = final_df.drop(columns=['Buy =1'])\n",
    "y = final_df['Buy =1']"
   ]
  },
  {
   "cell_type": "code",
   "execution_count": 41,
   "id": "488bdc68",
   "metadata": {},
   "outputs": [
    {
     "data": {
      "text/plain": [
       "(1005, 47)"
      ]
     },
     "execution_count": 41,
     "metadata": {},
     "output_type": "execute_result"
    }
   ],
   "source": [
    "X.shape"
   ]
  },
  {
   "cell_type": "markdown",
   "id": "1001731d",
   "metadata": {},
   "source": [
    "<h2>Baseline KNN model</h2>"
   ]
  },
  {
   "cell_type": "code",
   "execution_count": 84,
   "id": "785f15d3",
   "metadata": {},
   "outputs": [
    {
     "data": {
      "text/plain": [
       "0.8790881458966565"
      ]
     },
     "execution_count": 84,
     "metadata": {},
     "output_type": "execute_result"
    }
   ],
   "source": [
    "# lets produce final model\n",
    "X_train, X_test, y_train, y_test = train_test_split(X,y, test_size = .3, random_state=0)\n",
    "knn_model = KNeighborsClassifier(n_neighbors=10)\n",
    "cv_scores = cross_validate(knn_model, X_train, y_train, cv = 5)\n",
    "cv_score_mean = np.mean(cv_scores['test_score'])\n",
    "cv_score_mean"
   ]
  },
  {
   "cell_type": "markdown",
   "id": "3437f964",
   "metadata": {},
   "source": [
    "5-fold cross validate a simple KNN classifier taking into account 5 of the closest neighbor, and compute its mean cv-score"
   ]
  },
  {
   "cell_type": "code",
   "execution_count": 85,
   "id": "532feea2",
   "metadata": {},
   "outputs": [
    {
     "data": {
      "text/plain": [
       "0.8933434650455927"
      ]
     },
     "execution_count": 85,
     "metadata": {},
     "output_type": "execute_result"
    }
   ],
   "source": [
    "# scaling is moved up to robust scaler and score improves\n",
    "robust_scaler.fit(X_train)\n",
    "rescaled_X_train = robust_scaler.transform(X_train)\n",
    "\n",
    "cv_scores = cross_validate(knn_model, rescaled_X_train, y_train, cv = 5)\n",
    "cv_score_mean = np.mean(cv_scores['test_score'])\n",
    "cv_score_mean"
   ]
  },
  {
   "cell_type": "markdown",
   "id": "ae84d28e",
   "metadata": {},
   "source": [
    "<h3>Assuming no grid search or hyperparameters </h3>"
   ]
  },
  {
   "cell_type": "code",
   "execution_count": 86,
   "id": "550ea345",
   "metadata": {},
   "outputs": [
    {
     "data": {
      "text/plain": [
       "0.8509933774834437"
      ]
     },
     "execution_count": 86,
     "metadata": {},
     "output_type": "execute_result"
    }
   ],
   "source": [
    "knn_model.fit(rescaled_X_train, y_train) #fit our model\n",
    "# # we found our model above, and need to retrain our rescaled_X with our model (resclaed X and regular y_train)\n",
    "rescaled_X_test = robust_scaler.transform(X_test)\n",
    "\n",
    "# #score the model on the Testing Data\n",
    "knn_model.score(rescaled_X_test, y_test)"
   ]
  },
  {
   "cell_type": "code",
   "execution_count": 87,
   "id": "fd72165b",
   "metadata": {},
   "outputs": [],
   "source": [
    "r2_test = knn_model.score(rescaled_X_test, y_test)"
   ]
  },
  {
   "cell_type": "code",
   "execution_count": 88,
   "id": "22348870",
   "metadata": {},
   "outputs": [
    {
     "name": "stdout",
     "output_type": "stream",
     "text": [
      "0.8509933774834437\n"
     ]
    }
   ],
   "source": [
    "print(r2_test)"
   ]
  },
  {
   "cell_type": "code",
   "execution_count": 89,
   "id": "b7fe9a41",
   "metadata": {},
   "outputs": [],
   "source": [
    "y_pred = knn_model.predict(rescaled_X_test)"
   ]
  },
  {
   "cell_type": "code",
   "execution_count": 90,
   "id": "1d69c84f",
   "metadata": {},
   "outputs": [
    {
     "name": "stdout",
     "output_type": "stream",
     "text": [
      "[[ 72  22]\n",
      " [ 23 185]]\n",
      "0.8509933774834437\n",
      "[0.76595745 0.88942308]\n",
      "[0.75789474 0.89371981]\n"
     ]
    }
   ],
   "source": [
    "# Confusion Matrix\n",
    "from sklearn.metrics import confusion_matrix\n",
    "print(confusion_matrix(y_test, y_pred))\n",
    "# Accuracy\n",
    "from sklearn.metrics import accuracy_score\n",
    "print(accuracy_score(y_test, y_pred))\n",
    "# Recall\n",
    "from sklearn.metrics import recall_score\n",
    "print(recall_score(y_test, y_pred, average=None))\n",
    "# Precision\n",
    "from sklearn.metrics import precision_score\n",
    "print(precision_score(y_test, y_pred, average=None))"
   ]
  },
  {
   "cell_type": "code",
   "execution_count": 91,
   "id": "ea73ef2c",
   "metadata": {},
   "outputs": [
    {
     "data": {
      "text/plain": [
       "<matplotlib.legend.Legend at 0x1566a11c0>"
      ]
     },
     "execution_count": 91,
     "metadata": {},
     "output_type": "execute_result"
    },
    {
     "data": {
      "image/png": "[encoded data removed]",
      "text/plain": [
       "<Figure size 432x288 with 1 Axes>"
      ]
     },
     "metadata": {
      "needs_background": "light"
     },
     "output_type": "display_data"
    }
   ],
   "source": [
    "# Take the mean of cross-validated train scores and validation scores\n",
    "from sklearn.model_selection import learning_curve\n",
    "\n",
    "train_sizes = [25,50,75,100,250,500,750]\n",
    "# Get train scores (R2), train sizes, and validation scores using `learning_curve`\n",
    "train_sizes, train_scores, test_scores = learning_curve(\n",
    "    estimator=knn_model, X=X, y=y, train_sizes=train_sizes, cv=5)\n",
    "    \n",
    "    \n",
    "# Take the mean of cross-validated train scores and validation scores\n",
    "train_scores_mean = np.mean(train_scores, axis=1)\n",
    "test_scores_mean = np.mean(test_scores, axis=1)\n",
    "plt.plot(train_sizes, train_scores_mean, label = 'Training score')\n",
    "plt.plot(train_sizes, test_scores_mean, label = 'Test score')\n",
    "plt.ylabel('r2 score', fontsize = 14)\n",
    "plt.xlabel('Training set size', fontsize = 14)\n",
    "plt.title('Learning curves', fontsize = 18, y = 1.03)\n",
    "plt.legend()"
   ]
  }
 ],
 "metadata": {
  "kernelspec": {
   "display_name": "Python 3 (ipykernel)",
   "language": "python",
   "name": "python3"
  },
  "language_info": {
   "codemirror_mode": {
    "name": "ipython",
    "version": 3
   },
   "file_extension": ".py",
   "mimetype": "text/x-python",
   "name": "python",
   "nbconvert_exporter": "python",
   "pygments_lexer": "ipython3",
   "version": "3.8.12"
  },
  "toc": {
   "base_numbering": 1,
   "nav_menu": {},
   "number_sections": true,
   "sideBar": true,
   "skip_h1_title": false,
   "title_cell": "Table of Contents",
   "title_sidebar": "Contents",
   "toc_cell": false,
   "toc_position": {},
   "toc_section_display": true,
   "toc_window_display": false
  }
 },
 "nbformat": 4,
 "nbformat_minor": 5
}
